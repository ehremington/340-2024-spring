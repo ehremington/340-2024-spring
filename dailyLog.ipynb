{
 "cells": [
  {
   "cell_type": "markdown",
   "id": "dc816c89-0c7c-421f-acfd-2910baed1204",
   "metadata": {},
   "source": [
    "# Optics - PH340\n",
    "\n",
    "## Day 3\n",
    "\n",
    "We did something awesome today which is that we used Maxwell's equations, which are the equations that govern electric and magnetic fields, and we used them to show that under certain conditions they work together to make light. The speed of light came very naturally out of two constants that are used in electric and magnetic fields. \n",
    "\n",
    "For homework, work on questions 1 and 3 from Chapter 2. This is due this Wednesday the 17th.\n",
    "\n",
    "## Day 2\n",
    "\n",
    "I brought out a double slit apparatus and we had a lot of fun looking and talking about what was going on in that. Remember that electrons behave the same way and that is even more mind bending. Remember that Heisenberg's Uncertainty Principle says that we can not know which slit the light goes through without destroying the entire arrangement. \n",
    "\n",
    "We then moved into what *mathematically* makes a function a wave. For this we learned that putting \\[x-vt\\] x-vt in the place of the varable *x* will make a function into a wave. And we saw that for ourselves in the Python script I made. We contrasted these waves, with a function that is still of *x* and *t*, the heat equation, and we saw how that was not a wave. \n",
    "\n",
    "Finally, we kind-of-ish *derived* the Wave Equation, a partial differential equation that produces a wave given any initial conditions. This is not something that we are going to use *per se*, but I would like to figure out how to make a demo out of it, so someone should consider that a project opportunity. \n",
    "\n",
    "**Speaking of projects**, you have a project this semester. The project is to come up with some kind of optics demonstration. Optics is inherently visual and so you should be able to come up with some kind of visual demostration. It needs to be awesome. It can be many smaller demonstrations, but I want them to be part of a *cohesive whole*. The best way to do this is to look through the textbook for good ideas, and start working on learning those ideas. Come to class next time with some inspiration.\n",
    "\n",
    "## Day 1\n",
    "\n",
    "We took a trip through the history of optics, starting essentially with Newton although there were things that happened before him. But we discussed the dual nature of light over history and some of the arguments that people thought would settle the matter. Newton was for particles, Huygens was for waves, Michelson-Morley showed there was no aether, and Einstein blew everyone's mind. So we are left with a question that we will be talking about all semester. What is light?\n",
    "\n",
    "## Day 0 \n",
    "\n",
    "Read the syllabus. I know I'm late in getting it up there, but mostly get the textbook, *Optics* by Eugene Hecht, and note that there are homeworks, 3 exams, and a project. "
   ]
  },
  {
   "cell_type": "code",
   "execution_count": null,
   "id": "611dd7d3-fbfc-4138-a7b5-428583975da1",
   "metadata": {},
   "outputs": [],
   "source": []
  }
 ],
 "metadata": {
  "kernelspec": {
   "display_name": "Python 3 (ipykernel)",
   "language": "python",
   "name": "python3"
  },
  "language_info": {
   "codemirror_mode": {
    "name": "ipython",
    "version": 3
   },
   "file_extension": ".py",
   "mimetype": "text/x-python",
   "name": "python",
   "nbconvert_exporter": "python",
   "pygments_lexer": "ipython3",
   "version": "3.9.18"
  }
 },
 "nbformat": 4,
 "nbformat_minor": 5
}
