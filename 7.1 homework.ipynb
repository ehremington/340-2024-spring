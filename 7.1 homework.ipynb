{
 "cells": [
  {
   "cell_type": "code",
   "execution_count": 1,
   "id": "b03a9e06-3f05-4e7c-8bc6-ccafd8f53576",
   "metadata": {
    "tags": []
   },
   "outputs": [],
   "source": [
    "%matplotlib widget\n",
    "\n",
    "import pandas as pd\n",
    "import numpy as np\n",
    "import matplotlib.pyplot as plt"
   ]
  },
  {
   "cell_type": "code",
   "execution_count": 4,
   "id": "dbb919e6-b07e-4f0a-b5c1-04dc8c19513d",
   "metadata": {
    "tags": []
   },
   "outputs": [
    {
     "data": {
      "application/vnd.jupyter.widget-view+json": {
       "model_id": "8c2012790fd74e2db339acc9631eb4f4",
       "version_major": 2,
       "version_minor": 0
      },
      "text/plain": [
       "Canvas(toolbar=Toolbar(toolitems=[('Home', 'Reset original view', 'home', 'home'), ('Back', 'Back to previous …"
      ]
     },
     "metadata": {},
     "output_type": "display_data"
    },
    {
     "data": {
      "text/plain": [
       "<matplotlib.legend.Legend at 0x7fbc7e53c8d0>"
      ]
     },
     "execution_count": 4,
     "metadata": {},
     "output_type": "execute_result"
    }
   ],
   "source": [
    "t = np.linspace(0, 100,1000)\n",
    "df = pd.DataFrame(t, columns=['time'])\n",
    "w = 200*np.pi\n",
    "E01 = 8\n",
    "E02 = 10\n",
    "e1 = 0\n",
    "e2 = np.pi/3\n",
    "df['E1'] = E01*np.sin(w*t+e1)\n",
    "df['E2'] = E02*np.sin(w*t+e2)\n",
    "df['resultant'] = E01*np.sin(w*t+e1) + E02*np.sin(w*t+e2)\n",
    "\n",
    "fig0, ax0 = plt.subplots()\n",
    "\n",
    "ax0.plot(df.time, df.E1, 'o',label='E1')\n",
    "ax0.plot(df.time, df.E2, 'o',label='E2')\n",
    "ax0.plot(df.time, df.resultant, 'o',label='resultant')\n",
    "ax0.legend()"
   ]
  },
  {
   "cell_type": "code",
   "execution_count": null,
   "id": "462f020e-1816-4a73-b149-c784eeb5fe8e",
   "metadata": {},
   "outputs": [],
   "source": [
    "def interfereDemo(func1,func2):\n",
    "    fig2 = plt.figure(figsize=(8,5))\n",
    "    ax2 = fig2.add_subplot(111)\n",
    "    x = np.linspace(0,20,1000)\n",
    "    line21, = ax2.plot([],[])\n",
    "    line22, = ax2.plot([],[])\n",
    "    line23, = ax2.plot([],[])\n",
    "    ax2.set_ylim((-3,6))\n",
    "    ax2.set_xlim((0,20))\n",
    "    ax2.hlines(0,0,20)\n",
    "    \n",
    "    def plot2(t=0, a=1, k=.2, ph=0):\n",
    "        wave1 = func1(x,t,1,.2,1,0)\n",
    "        wave2 = func2(x,t,a,k,1,ph)\n",
    "        line21.set_data(x,wave1)\n",
    "        line22.set_data(x,wave2)\n",
    "        line23.set_data(x,wave1+wave2+3)\n",
    "        plt.draw()\n",
    "    \n",
    "    interact(plot2, t=(0,20,.05), a=(1,5,.1), k=(.01,1,.01), ph=(0,6.3,.1))"
   ]
  }
 ],
 "metadata": {
  "kernelspec": {
   "display_name": "Python 3",
   "language": "python",
   "name": "python3"
  },
  "language_info": {
   "codemirror_mode": {
    "name": "ipython",
    "version": 3
   },
   "file_extension": ".py",
   "mimetype": "text/x-python",
   "name": "python",
   "nbconvert_exporter": "python",
   "pygments_lexer": "ipython3",
   "version": "3.6.13"
  }
 },
 "nbformat": 4,
 "nbformat_minor": 5
}
