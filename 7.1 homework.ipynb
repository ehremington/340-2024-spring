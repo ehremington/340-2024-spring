{
 "cells": [
  {
   "cell_type": "code",
   "execution_count": 1,
   "id": "b03a9e06-3f05-4e7c-8bc6-ccafd8f53576",
   "metadata": {
    "tags": []
   },
   "outputs": [],
   "source": [
    "%matplotlib widget\n",
    "\n",
    "import pandas as pd\n",
    "import numpy as np\n",
    "import matplotlib.pyplot as plt"
   ]
  },
  {
   "cell_type": "code",
   "execution_count": 4,
   "id": "dbb919e6-b07e-4f0a-b5c1-04dc8c19513d",
   "metadata": {
    "tags": []
   },
   "outputs": [
    {
     "data": {
      "application/vnd.jupyter.widget-view+json": {
       "model_id": "8c2012790fd74e2db339acc9631eb4f4",
       "version_major": 2,
       "version_minor": 0
      },
      "text/plain": [
       "Canvas(toolbar=Toolbar(toolitems=[('Home', 'Reset original view', 'home', 'home'), ('Back', 'Back to previous …"
      ]
     },
     "metadata": {},
     "output_type": "display_data"
    },
    {
     "data": {
      "text/plain": [
       "<matplotlib.legend.Legend at 0x7fbc7e53c8d0>"
      ]
     },
     "execution_count": 4,
     "metadata": {},
     "output_type": "execute_result"
    }
   ],
   "source": [
    "t = np.linspace(0, 100,1000)\n",
    "df = pd.DataFrame(t, columns=['time'])\n",
    "w = 200*np.pi\n",
    "E01 = 8\n",
    "E02 = 10\n",
    "e1 = 0\n",
    "e2 = np.pi/3\n",
    "df['E1'] = E01*np.sin(w*t+e1)\n",
    "df['E2'] = E02*np.sin(w*t+e2)\n",
    "df['resultant'] = E01*np.sin(w*t+e1) + E02*np.sin(w*t+e2)\n",
    "\n",
    "fig0, ax0 = plt.subplots()\n",
    "\n",
    "ax0.plot(df.time, df.E1, 'o',label='E1')\n",
    "ax0.plot(df.time, df.E2, 'o',label='E2')\n",
    "ax0.plot(df.time, df.resultant, 'o',label='resultant')\n",
    "ax0.legend()"
   ]
  },
  {
   "cell_type": "code",
   "execution_count": 6,
   "id": "e4a85a73-16fa-470a-aac4-f3be6f2d2dd5",
   "metadata": {},
   "outputs": [],
   "source": [
    "from ipywidgets import interact, interactive, fixed, interact_manual\n",
    "import ipywidgets as widgets\n",
    "#from IPython.display import display"
   ]
  },
  {
   "cell_type": "code",
   "execution_count": 13,
   "id": "462f020e-1816-4a73-b149-c784eeb5fe8e",
   "metadata": {},
   "outputs": [
    {
     "data": {
      "application/vnd.jupyter.widget-view+json": {
       "model_id": "72e3d7763957412bb5c2fe882131090b",
       "version_major": 2,
       "version_minor": 0
      },
      "text/plain": [
       "Canvas(toolbar=Toolbar(toolitems=[('Home', 'Reset original view', 'home', 'home'), ('Back', 'Back to previous …"
      ]
     },
     "metadata": {},
     "output_type": "display_data"
    },
    {
     "data": {
      "application/vnd.jupyter.widget-view+json": {
       "model_id": "fb671d640e9340ddb5dcc051b403a2e7",
       "version_major": 2,
       "version_minor": 0
      },
      "text/plain": [
       "interactive(children=(IntSlider(value=100, description='n', max=1000, min=100, step=10), FloatSlider(value=1.0…"
      ]
     },
     "metadata": {},
     "output_type": "display_data"
    }
   ],
   "source": [
    "fig2 = plt.figure(figsize=(8,5))\n",
    "ax2 = fig2.add_subplot(111)\n",
    "\n",
    "line21, = ax2.plot([],[], '.')\n",
    "line22, = ax2.plot([],[], '.')\n",
    "line23, = ax2.plot([],[], '.')\n",
    "ax2.set_ylim((-20,20))\n",
    "# ax2.hlines(0,0,100)\n",
    "\n",
    "def plot2(n=100, dn=1):\n",
    "    ax2.set_xlim(0,n)\n",
    "    t = np.arange(0, n, dn)\n",
    "    # E01 = 8, E02 = 10, \\omega = 200*\\pi, \\epsilon_1 = 0, \\epsilon_2 = \\pi/3\n",
    "    wave1 = 8*np.sin(200*np.pi*t)\n",
    "    wave2 = 10*np.sin(200*np.pi*t+np.pi/3)\n",
    "    line21.set_data(t,wave1)\n",
    "    line22.set_data(t,wave2)\n",
    "    line23.set_data(t,wave1+wave2)\n",
    "    plt.draw()\n",
    "    \n",
    "interact(plot2, n = (100, 1000, 10), dn = (0.01, 1, .001)); #start, stop, interval t=(0,10,.05), a=(1,5,.1), k=(1,1.5,.01), ph=(0,6.3,.1));"
   ]
  },
  {
   "cell_type": "code",
   "execution_count": null,
   "id": "dcd36e51-ec25-46df-816e-42562aa60cd4",
   "metadata": {},
   "outputs": [],
   "source": []
  },
  {
   "cell_type": "code",
   "execution_count": null,
   "id": "4d711c04-a80b-4289-9d93-d3e38bd706bc",
   "metadata": {},
   "outputs": [],
   "source": []
  }
 ],
 "metadata": {
  "kernelspec": {
   "display_name": "Python 3",
   "language": "python",
   "name": "python3"
  },
  "language_info": {
   "codemirror_mode": {
    "name": "ipython",
    "version": 3
   },
   "file_extension": ".py",
   "mimetype": "text/x-python",
   "name": "python",
   "nbconvert_exporter": "python",
   "pygments_lexer": "ipython3",
   "version": "3.6.13"
  }
 },
 "nbformat": 4,
 "nbformat_minor": 5
}
