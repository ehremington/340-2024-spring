{
 "cells": [
  {
   "cell_type": "markdown",
   "id": "c30e0430-a055-441a-849b-8aa29c934132",
   "metadata": {},
   "source": [
    "# This is my code for problem 7.44\n",
    "\n",
    "What I really want to do is not work 7.44 because we already did that in class, but I want to plot that result to check it.\n",
    "\n",
    "$$ f(t) = \\frac{1}{2} + \\sum_{m=1, odd}^{\\infty}\\frac{4}{m \\omega T}\\sin(\\frac{m \\pi}{2})\\cos(m\\omega t) $$\n"
   ]
  },
  {
   "cell_type": "code",
   "execution_count": 1,
   "id": "19d882c5-84ec-4ea9-8939-969fafa72e19",
   "metadata": {},
   "outputs": [],
   "source": [
    "%matplotlib widget\n",
    "\n",
    "import numpy as np\n",
    "import matplotlib.pyplot as plt"
   ]
  },
  {
   "cell_type": "code",
   "execution_count": 2,
   "id": "fa7b9fbd-a292-4d35-885a-808f7ff6c5ab",
   "metadata": {},
   "outputs": [],
   "source": [
    "time = np.linspace(0,5,1000)"
   ]
  },
  {
   "cell_type": "code",
   "execution_count": 3,
   "id": "e2b41ade-0e65-4aaa-b69b-c60d1099bcaa",
   "metadata": {},
   "outputs": [],
   "source": [
    "T = 1\n",
    "w = 2*np.pi"
   ]
  },
  {
   "cell_type": "code",
   "execution_count": null,
   "id": "1f29f4e4-83cc-406d-9384-483d581c9521",
   "metadata": {},
   "outputs": [],
   "source": []
  },
  {
   "cell_type": "code",
   "execution_count": null,
   "id": "67e1f690-5974-4e4c-af7b-bce925958820",
   "metadata": {},
   "outputs": [],
   "source": []
  }
 ],
 "metadata": {
  "kernelspec": {
   "display_name": "Python 3",
   "language": "python",
   "name": "python3"
  },
  "language_info": {
   "codemirror_mode": {
    "name": "ipython",
    "version": 3
   },
   "file_extension": ".py",
   "mimetype": "text/x-python",
   "name": "python",
   "nbconvert_exporter": "python",
   "pygments_lexer": "ipython3",
   "version": "3.6.13"
  }
 },
 "nbformat": 4,
 "nbformat_minor": 5
}
