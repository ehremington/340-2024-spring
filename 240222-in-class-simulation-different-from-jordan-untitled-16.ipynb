{
 "cells": [
  {
   "cell_type": "code",
   "execution_count": 1,
   "id": "a383d68d-8808-4cde-bf82-1ba01ae9c757",
   "metadata": {},
   "outputs": [],
   "source": [
    "import numpy as np\n",
    "import matplotlib.pyplot as plt\n",
    "import pandas as pd"
   ]
  },
  {
   "cell_type": "code",
   "execution_count": 2,
   "id": "7e2b311e-1b17-457f-b88f-1516b9a233e9",
   "metadata": {},
   "outputs": [],
   "source": [
    "# define some material properties\n",
    "w0 = 1\n",
    "\n",
    "# define some external wave properties\n",
    "a = 1\n",
    "w = .5\n",
    "\n",
    "# Runge-Kutta 4nd order\n",
    "def g(r,t):\n",
    "    y = r[0]\n",
    "    v = r[1]\n",
    "    fy = v\n",
    "    fv = -y*w0**2 -  0.1*v\n",
    "    return(np.array([fy,fv],float))\n",
    "\n",
    "def h(r,t):\n",
    "    y = r[0]\n",
    "    v = r[1]\n",
    "    fy = v\n",
    "    fv = -y*w0**2 + a*np.sin(w*t) - 1*v \n",
    "    return(np.array([fy,fv],float))\n",
    "\n",
    "def crk4(f, tf, x0, y0, t0=0, dt=2**-5): \n",
    "\n",
    "    r = np.array([x0,y0],float) # initial condition\n",
    "\n",
    "    tpoints = np.arange(t0, tf, dt)\n",
    "    xpoints = []\n",
    "    ypoints = []\n",
    "\n",
    "    for t in tpoints:\n",
    "        xpoints.append(r[0])\n",
    "        ypoints.append(r[1])\n",
    "        k1 = dt*f(r,t)\n",
    "        k2 = dt*f(r+0.5*k1,t+0.5*dt)\n",
    "        k3 = dt*f(r+0.5*k2,t+0.5*dt)\n",
    "        k4 = dt*f(r+k3, t+dt)\n",
    "        r = r + (k1+2*k2+2*k3+k4)/6\n",
    "\n",
    "    return(tpoints, xpoints, ypoints)"
   ]
  },
  {
   "cell_type": "code",
   "execution_count": 3,
   "id": "cce0570f-98a8-4936-8bb0-954f99c57a1e",
   "metadata": {},
   "outputs": [],
   "source": [
    "t0, z0, v0 = crk4(g, 100, 1, 0)"
   ]
  },
  {
   "cell_type": "code",
   "execution_count": 4,
   "id": "c76960e8-6dba-48b9-95f8-83bc77fffcb1",
   "metadata": {},
   "outputs": [
    {
     "data": {
      "application/vnd.jupyter.widget-view+json": {
       "model_id": "9aa799169e1a417e88bf29a0dc0cf499",
       "version_major": 2,
       "version_minor": 0
      },
      "text/plain": [
       "Canvas(toolbar=Toolbar(toolitems=[('Home', 'Reset original view', 'home', 'home'), ('Back', 'Back to previous …"
      ]
     },
     "metadata": {},
     "output_type": "display_data"
    }
   ],
   "source": [
    "fig0, ax0 = plt.subplots(figsize=(12,4))\n",
    "ax0.plot(t0,z0, label = 'unforced')\n",
    "plt.tight_layout()"
   ]
  },
  {
   "cell_type": "code",
   "execution_count": 5,
   "id": "052cd267-27be-4a44-bda5-c53c55dc1d04",
   "metadata": {},
   "outputs": [],
   "source": [
    "t1, z1, v1 = crk4(h, 100, 0, 0)"
   ]
  },
  {
   "cell_type": "code",
   "execution_count": 6,
   "id": "0cb6ef01-9ad7-4130-aa4c-05b95b3eb974",
   "metadata": {},
   "outputs": [
    {
     "data": {
      "application/vnd.jupyter.widget-view+json": {
       "model_id": "88882e7662c7426d86c7bb499952ac48",
       "version_major": 2,
       "version_minor": 0
      },
      "text/plain": [
       "Canvas(toolbar=Toolbar(toolitems=[('Home', 'Reset original view', 'home', 'home'), ('Back', 'Back to previous …"
      ]
     },
     "metadata": {},
     "output_type": "display_data"
    }
   ],
   "source": [
    "fig1, ax1 = plt.subplots(figsize=(12,4))\n",
    "ax1.plot(t1, z1, label='forced')\n",
    "ax1.plot(t1, np.sin(w*t1))\n",
    "fig1.tight_layout()"
   ]
  },
  {
   "cell_type": "code",
   "execution_count": null,
   "id": "d7420e76-9617-4142-a595-a3c6e06e1558",
   "metadata": {},
   "outputs": [],
   "source": []
  },
  {
   "cell_type": "code",
   "execution_count": null,
   "id": "ef470816-2471-4810-943d-565081a38620",
   "metadata": {},
   "outputs": [],
   "source": []
  },
  {
   "cell_type": "code",
   "execution_count": null,
   "id": "e84d503c-2b2f-48d6-9077-2460b2ad4f51",
   "metadata": {},
   "outputs": [],
   "source": []
  }
 ],
 "metadata": {
  "kernelspec": {
   "display_name": "Python 3",
   "language": "python",
   "name": "python3"
  },
  "language_info": {
   "codemirror_mode": {
    "name": "ipython",
    "version": 3
   },
   "file_extension": ".py",
   "mimetype": "text/x-python",
   "name": "python",
   "nbconvert_exporter": "python",
   "pygments_lexer": "ipython3",
   "version": "3.6.13"
  }
 },
 "nbformat": 4,
 "nbformat_minor": 5
}
