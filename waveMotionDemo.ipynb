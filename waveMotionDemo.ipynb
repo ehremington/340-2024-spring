{
 "cells": [
  {
   "cell_type": "code",
   "execution_count": 8,
   "metadata": {},
   "outputs": [],
   "source": [
    "%matplotlib widget\n",
    "\n",
    "from ipywidgets import interact, interactive, fixed, interact_manual\n",
    "import ipywidgets as widgets\n",
    "from IPython.display import display\n",
    "import matplotlib.pyplot as plt\n",
    "import numpy as np"
   ]
  },
  {
   "cell_type": "code",
   "execution_count": 9,
   "metadata": {},
   "outputs": [],
   "source": [
    "def wavePlotDemo(wavefunc):\n",
    "    fig0 = plt.figure(figsize=(8,5))\n",
    "    ax0 = fig0.add_subplot(111)\n",
    "    x = np.linspace(-5,20,1000)\n",
    "    line01, = ax0.plot([],[], color='gray')\n",
    "    line02, = ax0.plot([],[])\n",
    "    ax0.set_xlim((-5,20))\n",
    "    ax0.set_ylim((-5,5))\n",
    "    ax0.axhline(0, color='k')\n",
    "    ax0.axvline(0, color='k')\n",
    "    ax0.set_xlabel('horizontal position')\n",
    "    ax0.set_ylabel('vertical position')\n",
    "    \n",
    "    def plot0(t=0, k=1, v=1): # set initial k and v values here\n",
    "        # wave1 = wavefunc(x,0,1,.1,1)\n",
    "        wave2 = wavefunc(x,t,1,k,v)\n",
    "        # line01.set_data(x,wave1)\n",
    "        line02.set_data(x,wave2)\n",
    "        plt.draw()\n",
    "    interact(plot0, t=(0,10,.05), k=(.1,10,.1), v=(1,10,.1))\n",
    "\n",
    "def sinWave(x,t,a,k,v, ph=0):\n",
    "    return a*np.sin(2*np.pi*k*(x-v*t)+ph)\n",
    "\n",
    "def sinWaveRev(x,t,a,k,v, ph=0):\n",
    "    return a*np.sin(2*np.pi*k*(x+v*t-20)+ph)\n",
    "\n",
    "def sinWaveHeaviside(x,t,a,k,v, ph=0):\n",
    "    return a*np.sin(2*np.pi*k*(x-v*t)+ph)*np.heaviside(2*np.pi*k*(x-v*t), 1)\n",
    "\n",
    "def gaussWave(x,t,a,k,v, ph=0):\n",
    "    return a*np.exp(-(2*np.pi*k*(x-v*t))**2)\n",
    "\n",
    "def gaussWaveRev(x,t,a,k,v, ph=0):\n",
    "    return a*np.exp(-(2*np.pi*k*((x-20)+v*t))**2)\n",
    "\n",
    "def lineWave(x,t,a,k,v):\n",
    "    return a*k*(x-v*t)+2\n",
    "\n",
    "def notWave(x,t,a,k,v):\n",
    "    return a*np.exp(-k*x**2/(v*t))\n",
    "\n",
    "def notWave2(x,t,a,k,v):\n",
    "    return a/(k*(x**2-v*t))"
   ]
  },
  {
   "cell_type": "code",
   "execution_count": 10,
   "metadata": {},
   "outputs": [],
   "source": [
    "def wavePacket(x,t,a,k,v, ph=0):\n",
    "    n = 100\n",
    "    j = np.linspace(-n, n, 10*n)\n",
    "    y = 0\n",
    "    for i in j:\n",
    "        a = np.exp(-10*(i-3)**2)\n",
    "        y = y + a*np.cos(2*np.pi*i*k*(x-v*t)+ph)\n",
    "    return(y)"
   ]
  },
  {
   "cell_type": "code",
   "execution_count": 11,
   "metadata": {},
   "outputs": [
    {
     "data": {
      "application/vnd.jupyter.widget-view+json": {
       "model_id": "bc17c22f41f243429191190b78eb3136",
       "version_major": 2,
       "version_minor": 0
      },
      "text/plain": [
       "Canvas(toolbar=Toolbar(toolitems=[('Home', 'Reset original view', 'home', 'home'), ('Back', 'Back to previous …"
      ]
     },
     "metadata": {},
     "output_type": "display_data"
    },
    {
     "data": {
      "application/vnd.jupyter.widget-view+json": {
       "model_id": "2b9d5f7c6f2e43b9b6d443c385b64588",
       "version_major": 2,
       "version_minor": 0
      },
      "text/plain": [
       "interactive(children=(FloatSlider(value=0.0, description='t', max=10.0, step=0.05), FloatSlider(value=1.0, des…"
      ]
     },
     "metadata": {},
     "output_type": "display_data"
    }
   ],
   "source": [
    "wavePlotDemo(wavePacket)"
   ]
  },
  {
   "cell_type": "code",
   "execution_count": 12,
   "metadata": {},
   "outputs": [
    {
     "data": {
      "application/vnd.jupyter.widget-view+json": {
       "model_id": "b36834720635490e9d368d9d4432a97c",
       "version_major": 2,
       "version_minor": 0
      },
      "text/plain": [
       "Canvas(toolbar=Toolbar(toolitems=[('Home', 'Reset original view', 'home', 'home'), ('Back', 'Back to previous …"
      ]
     },
     "metadata": {},
     "output_type": "display_data"
    },
    {
     "data": {
      "text/plain": [
       "[<matplotlib.lines.Line2D at 0x7f65d39adfd0>]"
      ]
     },
     "execution_count": 12,
     "metadata": {},
     "output_type": "execute_result"
    }
   ],
   "source": [
    "n = 10\n",
    "j = np.linspace(-n, n, 10*n)\n",
    "k = np.exp(-(j-1)**2)\n",
    "\n",
    "fig0,ax0 = plt.subplots()\n",
    "ax0.plot(j,k)"
   ]
  },
  {
   "cell_type": "code",
   "execution_count": 13,
   "metadata": {},
   "outputs": [
    {
     "data": {
      "text/plain": [
       "array([  1.,   3.,   5.,   7.,   9.,  11.,  13.,  15.,  17.,  19.,  21.,\n",
       "        23.,  25.,  27.,  29.,  31.,  33.,  35.,  37.,  39.,  41.,  43.,\n",
       "        45.,  47.,  49.,  51.,  53.,  55.,  57.,  59.,  61.,  63.,  65.,\n",
       "        67.,  69.,  71.,  73.,  75.,  77.,  79.,  81.,  83.,  85.,  87.,\n",
       "        89.,  91.,  93.,  95.,  97.,  99., 101.])"
      ]
     },
     "execution_count": 13,
     "metadata": {},
     "output_type": "execute_result"
    }
   ],
   "source": [
    "np.linspace(1 ,101, 51)"
   ]
  },
  {
   "cell_type": "code",
   "execution_count": 14,
   "metadata": {},
   "outputs": [
    {
     "data": {
      "application/vnd.jupyter.widget-view+json": {
       "model_id": "8d0918a2f94b4f37bd61df7093a1674b",
       "version_major": 2,
       "version_minor": 0
      },
      "text/plain": [
       "Canvas(toolbar=Toolbar(toolitems=[('Home', 'Reset original view', 'home', 'home'), ('Back', 'Back to previous …"
      ]
     },
     "metadata": {},
     "output_type": "display_data"
    },
    {
     "data": {
      "application/vnd.jupyter.widget-view+json": {
       "model_id": "ac7def657aba45c1a5caed72823ea2e7",
       "version_major": 2,
       "version_minor": 0
      },
      "text/plain": [
       "interactive(children=(FloatSlider(value=0.0, description='t', max=10.0, step=0.05), FloatSlider(value=1.0, des…"
      ]
     },
     "metadata": {},
     "output_type": "display_data"
    }
   ],
   "source": [
    "wavePlotDemo(sinWave)"
   ]
  },
  {
   "cell_type": "code",
   "execution_count": 15,
   "metadata": {},
   "outputs": [
    {
     "data": {
      "application/vnd.jupyter.widget-view+json": {
       "model_id": "43e64d44632742e7905ad0561927117f",
       "version_major": 2,
       "version_minor": 0
      },
      "text/plain": [
       "Canvas(toolbar=Toolbar(toolitems=[('Home', 'Reset original view', 'home', 'home'), ('Back', 'Back to previous …"
      ]
     },
     "metadata": {},
     "output_type": "display_data"
    },
    {
     "data": {
      "application/vnd.jupyter.widget-view+json": {
       "model_id": "31f217b5c730460fa0b1528449434461",
       "version_major": 2,
       "version_minor": 0
      },
      "text/plain": [
       "interactive(children=(FloatSlider(value=0.0, description='t', max=10.0, step=0.05), FloatSlider(value=1.0, des…"
      ]
     },
     "metadata": {},
     "output_type": "display_data"
    }
   ],
   "source": [
    "wavePlotDemo(lineWave)"
   ]
  },
  {
   "cell_type": "code",
   "execution_count": 16,
   "metadata": {},
   "outputs": [
    {
     "data": {
      "application/vnd.jupyter.widget-view+json": {
       "model_id": "aef3fc1070604c6e80a62788f742a200",
       "version_major": 2,
       "version_minor": 0
      },
      "text/plain": [
       "Canvas(toolbar=Toolbar(toolitems=[('Home', 'Reset original view', 'home', 'home'), ('Back', 'Back to previous …"
      ]
     },
     "metadata": {},
     "output_type": "display_data"
    },
    {
     "data": {
      "application/vnd.jupyter.widget-view+json": {
       "model_id": "345f8055fa80499bbc0cf6b8efa590a4",
       "version_major": 2,
       "version_minor": 0
      },
      "text/plain": [
       "interactive(children=(FloatSlider(value=0.0, description='t', max=10.0, step=0.05), FloatSlider(value=1.0, des…"
      ]
     },
     "metadata": {},
     "output_type": "display_data"
    }
   ],
   "source": [
    "wavePlotDemo(notWave)"
   ]
  },
  {
   "cell_type": "code",
   "execution_count": 17,
   "metadata": {},
   "outputs": [
    {
     "data": {
      "application/vnd.jupyter.widget-view+json": {
       "model_id": "1ce256b47b4a448e9c646122b2f49293",
       "version_major": 2,
       "version_minor": 0
      },
      "text/plain": [
       "Canvas(toolbar=Toolbar(toolitems=[('Home', 'Reset original view', 'home', 'home'), ('Back', 'Back to previous …"
      ]
     },
     "metadata": {},
     "output_type": "display_data"
    },
    {
     "data": {
      "application/vnd.jupyter.widget-view+json": {
       "model_id": "aefd2b0dbff74e04b62b1d8ebb867bf6",
       "version_major": 2,
       "version_minor": 0
      },
      "text/plain": [
       "interactive(children=(FloatSlider(value=0.0, description='t', max=10.0, step=0.05), FloatSlider(value=1.0, des…"
      ]
     },
     "metadata": {},
     "output_type": "display_data"
    }
   ],
   "source": [
    "wavePlotDemo(notWave2)"
   ]
  },
  {
   "cell_type": "code",
   "execution_count": null,
   "metadata": {},
   "outputs": [],
   "source": []
  },
  {
   "cell_type": "markdown",
   "metadata": {},
   "source": [
    "# Superposition"
   ]
  },
  {
   "cell_type": "code",
   "execution_count": 18,
   "metadata": {},
   "outputs": [],
   "source": [
    "def interfereDemo(func1,func2):\n",
    "    fig2 = plt.figure(figsize=(8,5))\n",
    "    ax2 = fig2.add_subplot(111)\n",
    "    x = np.linspace(0,20,1000)\n",
    "    line21, = ax2.plot([],[])\n",
    "    line22, = ax2.plot([],[])\n",
    "    line23, = ax2.plot([],[])\n",
    "    ax2.set_ylim((-3,6))\n",
    "    ax2.set_xlim((0,20))\n",
    "    ax2.hlines(0,0,20)\n",
    "    \n",
    "    def plot2(t=0, a=1, k=.2, ph=0):\n",
    "        wave1 = func1(x,t,1,.2,1,0)\n",
    "        wave2 = func2(x,t,a,k,1,ph)\n",
    "        line21.set_data(x,wave1)\n",
    "        line22.set_data(x,wave2)\n",
    "        line23.set_data(x,wave1+wave2+3)\n",
    "        plt.draw()\n",
    "    \n",
    "    interact(plot2, t=(0,20,.05), a=(1,5,.1), k=(.01,1,.01), ph=(0,6.3,.1))"
   ]
  },
  {
   "cell_type": "code",
   "execution_count": 19,
   "metadata": {},
   "outputs": [
    {
     "data": {
      "application/vnd.jupyter.widget-view+json": {
       "model_id": "7a05ae2d8a124756b5f5697d2d5cee7c",
       "version_major": 2,
       "version_minor": 0
      },
      "text/plain": [
       "Canvas(toolbar=Toolbar(toolitems=[('Home', 'Reset original view', 'home', 'home'), ('Back', 'Back to previous …"
      ]
     },
     "metadata": {},
     "output_type": "display_data"
    },
    {
     "data": {
      "application/vnd.jupyter.widget-view+json": {
       "model_id": "4e4cbeac8da64406aded4045164a67a5",
       "version_major": 2,
       "version_minor": 0
      },
      "text/plain": [
       "interactive(children=(FloatSlider(value=0.0, description='t', max=20.0, step=0.05), FloatSlider(value=1.0, des…"
      ]
     },
     "metadata": {},
     "output_type": "display_data"
    }
   ],
   "source": [
    "interfereDemo(gaussWave, gaussWaveRev)"
   ]
  },
  {
   "cell_type": "code",
   "execution_count": 20,
   "metadata": {},
   "outputs": [
    {
     "data": {
      "application/vnd.jupyter.widget-view+json": {
       "model_id": "166ee6b77d2f477ea0617f8a38f03026",
       "version_major": 2,
       "version_minor": 0
      },
      "text/plain": [
       "Canvas(toolbar=Toolbar(toolitems=[('Home', 'Reset original view', 'home', 'home'), ('Back', 'Back to previous …"
      ]
     },
     "metadata": {},
     "output_type": "display_data"
    },
    {
     "data": {
      "application/vnd.jupyter.widget-view+json": {
       "model_id": "33ad146715554de4a17b10a3132a388a",
       "version_major": 2,
       "version_minor": 0
      },
      "text/plain": [
       "interactive(children=(FloatSlider(value=0.0, description='t', max=20.0, step=0.05), FloatSlider(value=1.0, des…"
      ]
     },
     "metadata": {},
     "output_type": "display_data"
    }
   ],
   "source": [
    "interfereDemo(sinWave, sinWave)"
   ]
  },
  {
   "cell_type": "markdown",
   "metadata": {},
   "source": [
    "# Interference"
   ]
  },
  {
   "cell_type": "code",
   "execution_count": 21,
   "metadata": {},
   "outputs": [
    {
     "data": {
      "application/vnd.jupyter.widget-view+json": {
       "model_id": "fc00119ee602439c9e7177bb654b1a66",
       "version_major": 2,
       "version_minor": 0
      },
      "text/plain": [
       "Canvas(toolbar=Toolbar(toolitems=[('Home', 'Reset original view', 'home', 'home'), ('Back', 'Back to previous …"
      ]
     },
     "metadata": {},
     "output_type": "display_data"
    },
    {
     "data": {
      "application/vnd.jupyter.widget-view+json": {
       "model_id": "6f3720e134fc438ea572975909f7125f",
       "version_major": 2,
       "version_minor": 0
      },
      "text/plain": [
       "interactive(children=(FloatSlider(value=0.0, description='t', max=20.0, step=0.05), FloatSlider(value=1.0, des…"
      ]
     },
     "metadata": {},
     "output_type": "display_data"
    }
   ],
   "source": [
    "interfereDemo(sinWave, sinWave)"
   ]
  },
  {
   "cell_type": "markdown",
   "metadata": {},
   "source": [
    "# Frequency Beating"
   ]
  },
  {
   "cell_type": "code",
   "execution_count": 22,
   "metadata": {},
   "outputs": [
    {
     "data": {
      "application/vnd.jupyter.widget-view+json": {
       "model_id": "9007e9e614854af1bc35968799f3cb1f",
       "version_major": 2,
       "version_minor": 0
      },
      "text/plain": [
       "Canvas(toolbar=Toolbar(toolitems=[('Home', 'Reset original view', 'home', 'home'), ('Back', 'Back to previous …"
      ]
     },
     "metadata": {},
     "output_type": "display_data"
    },
    {
     "data": {
      "application/vnd.jupyter.widget-view+json": {
       "model_id": "5bb9f8781a574ae499e49577a2bf0bd5",
       "version_major": 2,
       "version_minor": 0
      },
      "text/plain": [
       "interactive(children=(FloatSlider(value=0.0, description='t', max=10.0, step=0.05), FloatSlider(value=1.0, des…"
      ]
     },
     "metadata": {},
     "output_type": "display_data"
    }
   ],
   "source": [
    "fig2 = plt.figure(figsize=(8,5))\n",
    "ax2 = fig2.add_subplot(111)\n",
    "x = np.linspace(0,20,1000)\n",
    "line21, = ax2.plot([],[])\n",
    "line22, = ax2.plot([],[])\n",
    "line23, = ax2.plot([],[])\n",
    "ax2.set_ylim((-2,5))\n",
    "ax2.hlines(0,0,20)\n",
    "\n",
    "def plot2(t=0, a=1, k=1, ph=0):\n",
    "    wave1 = sinWave(x,t,1,2,1,0)\n",
    "    wave2 = sinWave(x,t,a,2*k,1,ph)\n",
    "    line21.set_data(x,wave1)\n",
    "    line22.set_data(x,wave2)\n",
    "    line23.set_data(x,wave1+wave2+3)\n",
    "    plt.draw()\n",
    "    \n",
    "interact(plot2, t=(0,10,.05), a=(1,5,.1), k=(1,1.5,.01), ph=(0,6.3,.1));"
   ]
  },
  {
   "cell_type": "markdown",
   "metadata": {},
   "source": [
    "# Standing Waves"
   ]
  },
  {
   "cell_type": "code",
   "execution_count": 23,
   "metadata": {},
   "outputs": [
    {
     "data": {
      "application/vnd.jupyter.widget-view+json": {
       "model_id": "af7eb4f7e6be4ade93c74f08b477c7e4",
       "version_major": 2,
       "version_minor": 0
      },
      "text/plain": [
       "Canvas(toolbar=Toolbar(toolitems=[('Home', 'Reset original view', 'home', 'home'), ('Back', 'Back to previous …"
      ]
     },
     "metadata": {},
     "output_type": "display_data"
    },
    {
     "data": {
      "application/vnd.jupyter.widget-view+json": {
       "model_id": "0cf06706df9141aa9397327232e7c60f",
       "version_major": 2,
       "version_minor": 0
      },
      "text/plain": [
       "interactive(children=(FloatSlider(value=0.0, description='t', max=30.0, step=0.02), Output()), _dom_classes=('…"
      ]
     },
     "metadata": {},
     "output_type": "display_data"
    }
   ],
   "source": [
    "fig3 = plt.figure(figsize=(8,5))\n",
    "ax3 = fig3.add_subplot(111)\n",
    "x = np.linspace(0,50,500)\n",
    "line1, = ax3.plot([],[])\n",
    "line2, = ax3.plot([],[])\n",
    "line3, = ax3.plot([],[])\n",
    "ax3.set_ylim((-1.1,5))\n",
    "ax3.hlines(0,0,50)\n",
    "ax3.hlines(3,0,50)\n",
    "ax3.vlines(21.88, -5, 5, color='k')\n",
    "\n",
    "def wave1(x,t):\n",
    "    return np.sin(5*t-x)*np.heaviside(-x+5*t,1)\n",
    "\n",
    "def wave2(x,t):\n",
    "    return np.sin(-5*t-(x-50))*np.heaviside((x-50)+5*t,1)\n",
    "\n",
    "def plot3(t=0):\n",
    "    line1.set_data(x,wave1(x,t))\n",
    "    line2.set_data(x,wave2(x,t))\n",
    "    line3.set_data(x,wave1(x,t)+wave2(x,t)+3)\n",
    "    plt.draw()\n",
    "    \n",
    "interact(plot3, t=(0,30,.02));"
   ]
  },
  {
   "cell_type": "markdown",
   "metadata": {},
   "source": [
    "# Phase velocity vs Group velocity"
   ]
  },
  {
   "cell_type": "code",
   "execution_count": 5,
   "metadata": {},
   "outputs": [],
   "source": [
    "def phasePlotDemo(wavefunc):\n",
    "    fig0 = plt.figure(figsize=(8,5))\n",
    "    ax0 = fig0.add_subplot(111)\n",
    "    x = np.linspace(-5,20,1000)\n",
    "    line01, = ax0.plot([],[], color='gray')\n",
    "    line02, = ax0.plot([],[])\n",
    "    ax0.set_xlim((-5,20))\n",
    "    ax0.set_ylim((-5,5))\n",
    "    ax0.axhline(0, color='k')\n",
    "    ax0.axvline(0, color='k')\n",
    "    ax0.set_xlabel('horizontal position')\n",
    "    ax0.set_ylabel('vertical position')\n",
    "    \n",
    "    def plot0(t=0, k=1, v=1): # set initial k and v values here\n",
    "        # wave1 = wavefunc(x,0,1,.1,1)\n",
    "        wave2 = wavefunc(x,t,1,k,v)\n",
    "        # line01.set_data(x,wave1)\n",
    "        line02.set_data(x,wave2)\n",
    "        plt.draw()\n",
    "    interact(plot0, t=(0,10,.05), k=(.1,10,.1), v=(1,10,.1))\n"
   ]
  },
  {
   "cell_type": "code",
   "execution_count": 6,
   "metadata": {},
   "outputs": [],
   "source": [
    "def wavePacket(x,t,a,k,v, ph=0):\n",
    "    n = 100\n",
    "    j = np.linspace(-n, n, 10*n)\n",
    "    y = 0\n",
    "    index = 1 + 2/k\n",
    "    v = 1/\n",
    "    for i in j:\n",
    "        a = 100/n*np.exp(-10*(i-3)**2)\n",
    "        y = y + a*np.cos(2*np.pi*i*k*(x-v*t)+ph)\n",
    "    return(y)"
   ]
  },
  {
   "cell_type": "code",
   "execution_count": 7,
   "metadata": {},
   "outputs": [
    {
     "data": {
      "application/vnd.jupyter.widget-view+json": {
       "model_id": "026e294d63514fa3993020d1d3ddf4d7",
       "version_major": 2,
       "version_minor": 0
      },
      "text/plain": [
       "Canvas(toolbar=Toolbar(toolitems=[('Home', 'Reset original view', 'home', 'home'), ('Back', 'Back to previous …"
      ]
     },
     "metadata": {},
     "output_type": "display_data"
    },
    {
     "data": {
      "application/vnd.jupyter.widget-view+json": {
       "model_id": "db5321cbf9654b2ea3fb3abfab1255b8",
       "version_major": 2,
       "version_minor": 0
      },
      "text/plain": [
       "interactive(children=(FloatSlider(value=0.0, description='t', max=10.0, step=0.05), FloatSlider(value=1.0, des…"
      ]
     },
     "metadata": {},
     "output_type": "display_data"
    }
   ],
   "source": [
    "phasePlotDemo(wavePacket)"
   ]
  },
  {
   "cell_type": "code",
   "execution_count": null,
   "metadata": {},
   "outputs": [],
   "source": []
  },
  {
   "cell_type": "code",
   "execution_count": null,
   "metadata": {},
   "outputs": [],
   "source": []
  }
 ],
 "metadata": {
  "kernelspec": {
   "display_name": "Python 3",
   "language": "python",
   "name": "python3"
  },
  "language_info": {
   "codemirror_mode": {
    "name": "ipython",
    "version": 3
   },
   "file_extension": ".py",
   "mimetype": "text/x-python",
   "name": "python",
   "nbconvert_exporter": "python",
   "pygments_lexer": "ipython3",
   "version": "3.6.13"
  },
  "widgets": {
   "application/vnd.jupyter.widget-state+json": {
    "state": {
     "00fa17e712e14d2fade64d6bf01ec93e": {
      "model_module": "@jupyter-widgets/base",
      "model_module_version": "1.1.0",
      "model_name": "LayoutModel",
      "state": {}
     },
     "08959b71f85e4063bcef53c86c0b6421": {
      "model_module": "@jupyter-widgets/base",
      "model_module_version": "1.1.0",
      "model_name": "LayoutModel",
      "state": {}
     },
     "15aadf49d4084b68b1a93b38f4ad3eb1": {
      "model_module": "@jupyter-widgets/controls",
      "model_module_version": "1.3.0",
      "model_name": "SliderStyleModel",
      "state": {
       "description_width": ""
      }
     },
     "301068d7f7744fc1b8ed4739a3d600ab": {
      "model_module": "@jupyter-widgets/base",
      "model_module_version": "1.1.0",
      "model_name": "LayoutModel",
      "state": {}
     },
     "30ddd2f398b04e539080f946ccac5a74": {
      "model_module": "@jupyter-widgets/base",
      "model_module_version": "1.1.0",
      "model_name": "LayoutModel",
      "state": {}
     },
     "370a391df3ad4b548050b43f0111031b": {
      "model_module": "@jupyter-widgets/controls",
      "model_module_version": "1.3.0",
      "model_name": "FloatSliderModel",
      "state": {
       "description": "w",
       "layout": "IPY_MODEL_30ddd2f398b04e539080f946ccac5a74",
       "max": 10,
       "min": 1,
       "step": 0.1,
       "style": "IPY_MODEL_6ab4f365cb214a27bc53e60ef5fc19f1",
       "value": 1
      }
     },
     "3f601b4a9e884a4487cc267cc3664a79": {
      "model_module": "@jupyter-widgets/controls",
      "model_module_version": "1.3.0",
      "model_name": "FloatSliderModel",
      "state": {
       "description": "t",
       "layout": "IPY_MODEL_bc420aa46bd64d34855956644437d354",
       "max": 10,
       "step": 0.05,
       "style": "IPY_MODEL_6e678c187d1d4d39b1b7d55055291225"
      }
     },
     "4383a39d3ae1458c8441a7a1478abb9b": {
      "model_module": "@jupyter-widgets/controls",
      "model_module_version": "1.3.0",
      "model_name": "FloatSliderModel",
      "state": {
       "description": "k",
       "layout": "IPY_MODEL_301068d7f7744fc1b8ed4739a3d600ab",
       "max": 10,
       "min": 0.1,
       "step": 0.1,
       "style": "IPY_MODEL_88eaca4b2fb548f2a7d7d44dae30ff92",
       "value": 1
      }
     },
     "53d760b3e1fc4048b3bfca5417a408eb": {
      "model_module": "@jupyter-widgets/output",
      "model_module_version": "1.0.0",
      "model_name": "OutputModel",
      "state": {
       "layout": "IPY_MODEL_08959b71f85e4063bcef53c86c0b6421"
      }
     },
     "60dc867b737e4fb4bd905bb4f32fc89b": {
      "model_module": "@jupyter-widgets/output",
      "model_module_version": "1.0.0",
      "model_name": "OutputModel",
      "state": {
       "layout": "IPY_MODEL_7e61c7a6199f480ebde920e8cde1f7ed"
      }
     },
     "69d1c60db73c4cd8a4941ced19340ccc": {
      "model_module": "@jupyter-widgets/controls",
      "model_module_version": "1.3.0",
      "model_name": "FloatSliderModel",
      "state": {
       "description": "k",
       "layout": "IPY_MODEL_bf8e3fe06aba480d83fc692cd47d0acf",
       "max": 10,
       "min": 0.1,
       "step": 0.1,
       "style": "IPY_MODEL_15aadf49d4084b68b1a93b38f4ad3eb1",
       "value": 1
      }
     },
     "6ab4f365cb214a27bc53e60ef5fc19f1": {
      "model_module": "@jupyter-widgets/controls",
      "model_module_version": "1.3.0",
      "model_name": "SliderStyleModel",
      "state": {
       "description_width": ""
      }
     },
     "6e678c187d1d4d39b1b7d55055291225": {
      "model_module": "@jupyter-widgets/controls",
      "model_module_version": "1.3.0",
      "model_name": "SliderStyleModel",
      "state": {
       "description_width": ""
      }
     },
     "7c2a8821b2e1444ab509df086f4aec98": {
      "model_module": "@jupyter-widgets/base",
      "model_module_version": "1.1.0",
      "model_name": "LayoutModel",
      "state": {}
     },
     "7ca5bfdd702f41d79b8a7f307ceaa5a6": {
      "model_module": "@jupyter-widgets/base",
      "model_module_version": "1.1.0",
      "model_name": "LayoutModel",
      "state": {}
     },
     "7e61c7a6199f480ebde920e8cde1f7ed": {
      "model_module": "@jupyter-widgets/base",
      "model_module_version": "1.1.0",
      "model_name": "LayoutModel",
      "state": {}
     },
     "86c6142bfd724166b6d36f47dd2eb05e": {
      "model_module": "@jupyter-widgets/controls",
      "model_module_version": "1.3.0",
      "model_name": "VBoxModel",
      "state": {
       "_dom_classes": [
        "widget-interact"
       ],
       "children": [
        "IPY_MODEL_3f601b4a9e884a4487cc267cc3664a79",
        "IPY_MODEL_370a391df3ad4b548050b43f0111031b",
        "IPY_MODEL_69d1c60db73c4cd8a4941ced19340ccc",
        "IPY_MODEL_53d760b3e1fc4048b3bfca5417a408eb"
       ],
       "layout": "IPY_MODEL_da6eacac7f5d49d0b15cfeba3b89a2c4"
      }
     },
     "8721ccc798a740ae81c57d0c85441cde": {
      "model_module": "@jupyter-widgets/controls",
      "model_module_version": "1.3.0",
      "model_name": "FloatSliderModel",
      "state": {
       "description": "t",
       "layout": "IPY_MODEL_00fa17e712e14d2fade64d6bf01ec93e",
       "max": 10,
       "step": 0.05,
       "style": "IPY_MODEL_b1794922e53b44c59615d8a28522925d",
       "value": 1.6
      }
     },
     "88eaca4b2fb548f2a7d7d44dae30ff92": {
      "model_module": "@jupyter-widgets/controls",
      "model_module_version": "1.3.0",
      "model_name": "SliderStyleModel",
      "state": {
       "description_width": ""
      }
     },
     "8ad19cff74a34f39b2e7b365a11efb7a": {
      "model_module": "@jupyter-widgets/controls",
      "model_module_version": "1.3.0",
      "model_name": "SliderStyleModel",
      "state": {
       "description_width": ""
      }
     },
     "aba95f3ab4be4664b7bee375c5b39600": {
      "model_module": "@jupyter-widgets/controls",
      "model_module_version": "1.3.0",
      "model_name": "FloatSliderModel",
      "state": {
       "description": "w",
       "layout": "IPY_MODEL_7ca5bfdd702f41d79b8a7f307ceaa5a6",
       "max": 10,
       "min": 1,
       "step": 0.1,
       "style": "IPY_MODEL_8ad19cff74a34f39b2e7b365a11efb7a",
       "value": 1
      }
     },
     "b1794922e53b44c59615d8a28522925d": {
      "model_module": "@jupyter-widgets/controls",
      "model_module_version": "1.3.0",
      "model_name": "SliderStyleModel",
      "state": {
       "description_width": ""
      }
     },
     "bc420aa46bd64d34855956644437d354": {
      "model_module": "@jupyter-widgets/base",
      "model_module_version": "1.1.0",
      "model_name": "LayoutModel",
      "state": {}
     },
     "bf8e3fe06aba480d83fc692cd47d0acf": {
      "model_module": "@jupyter-widgets/base",
      "model_module_version": "1.1.0",
      "model_name": "LayoutModel",
      "state": {}
     },
     "c1d419f0243b4f9c8c805b4f3ff6346b": {
      "model_module": "@jupyter-widgets/controls",
      "model_module_version": "1.3.0",
      "model_name": "VBoxModel",
      "state": {
       "_dom_classes": [
        "widget-interact"
       ],
       "children": [
        "IPY_MODEL_8721ccc798a740ae81c57d0c85441cde",
        "IPY_MODEL_aba95f3ab4be4664b7bee375c5b39600",
        "IPY_MODEL_4383a39d3ae1458c8441a7a1478abb9b",
        "IPY_MODEL_60dc867b737e4fb4bd905bb4f32fc89b"
       ],
       "layout": "IPY_MODEL_7c2a8821b2e1444ab509df086f4aec98"
      }
     },
     "da6eacac7f5d49d0b15cfeba3b89a2c4": {
      "model_module": "@jupyter-widgets/base",
      "model_module_version": "1.1.0",
      "model_name": "LayoutModel",
      "state": {}
     }
    },
    "version_major": 2,
    "version_minor": 0
   }
  }
 },
 "nbformat": 4,
 "nbformat_minor": 4
}
