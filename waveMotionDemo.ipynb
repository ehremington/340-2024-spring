{
 "cells": [
  {
   "cell_type": "code",
   "execution_count": 1,
   "metadata": {},
   "outputs": [],
   "source": [
    "%matplotlib widget\n",
    "\n",
    "from ipywidgets import interact, interactive, fixed, interact_manual\n",
    "import ipywidgets as widgets\n",
    "from IPython.display import display\n",
    "import matplotlib.pyplot as plt\n",
    "import numpy as np"
   ]
  },
  {
   "cell_type": "code",
   "execution_count": 41,
   "metadata": {},
   "outputs": [],
   "source": [
    "def wavePlotDemo(wavefunc):\n",
    "    fig0 = plt.figure(figsize=(8,5))\n",
    "    ax0 = fig0.add_subplot(111)\n",
    "    x = np.linspace(-5,20,1000)\n",
    "    line01, = ax0.plot([],[], color='gray')\n",
    "    line02, = ax0.plot([],[])\n",
    "    ax0.set_xlim((-5,20))\n",
    "    ax0.set_ylim((-5,5))\n",
    "    ax0.axhline(0, color='k')\n",
    "    ax0.axvline(0, color='k')\n",
    "    ax0.set_xlabel('horizontal position')\n",
    "    ax0.set_ylabel('vertical position')\n",
    "    \n",
    "    def plot0(t=0, k=1, v=1): # set initial k and v values here\n",
    "        # wave1 = wavefunc(x,0,1,.1,1)\n",
    "        wave2 = wavefunc(x,t,1,k,v)\n",
    "        # line01.set_data(x,wave1)\n",
    "        line02.set_data(x,wave2)\n",
    "        plt.draw()\n",
    "    interact(plot0, t=(0,10,.05), k=(.1,10,.1), v=(1,10,.1))\n",
    "\n",
    "def sinWave(x,t,a,k,v, ph=0):\n",
    "    return a*np.sin(2*np.pi*k*(x-v*t)+ph)\n",
    "\n",
    "def sinWaveRev(x,t,a,k,v, ph=0):\n",
    "    return a*np.sin(2*np.pi*k*(x+v*t-20)+ph)\n",
    "\n",
    "def sinWaveHeaviside(x,t,a,k,v, ph=0):\n",
    "    return a*np.sin(2*np.pi*k*(x-v*t)+ph)*np.heaviside(2*np.pi*k*(x-v*t), 1)\n",
    "\n",
    "def gaussWave(x,t,a,k,v, ph=0):\n",
    "    return a*np.exp(-(2*np.pi*k*(x-v*t))**2)\n",
    "\n",
    "def gaussWaveRev(x,t,a,k,v, ph=0):\n",
    "    return a*np.exp(-(2*np.pi*k*((x-20)+v*t))**2)\n",
    "\n",
    "def lineWave(x,t,a,k,v):\n",
    "    return a*k*(x-v*t)+2\n",
    "\n",
    "def notWave(x,t,a,k,v):\n",
    "    return a*np.exp(-k*x**2/(v*t))\n",
    "\n",
    "def notWave2(x,t,a,k,v):\n",
    "    return a/(k*(x**2-v*t))"
   ]
  },
  {
   "cell_type": "code",
   "execution_count": 42,
   "metadata": {},
   "outputs": [],
   "source": [
    "def wavePacket(x,t,a,k,v, ph=0):\n",
    "    n = 100\n",
    "    j = np.linspace(-n, n, 10*n)\n",
    "    y = 0\n",
    "    for i in j:\n",
    "        a = np.exp(-10*(i-3)**2)\n",
    "        y = y + a*np.cos(2*np.pi*i*k*(x-v*t)+ph)\n",
    "    return(y)"
   ]
  },
  {
   "cell_type": "code",
   "execution_count": 43,
   "metadata": {},
   "outputs": [
    {
     "data": {
      "application/vnd.jupyter.widget-view+json": {
       "model_id": "36bf05eeb34541cabbd6bfde4440bcf3",
       "version_major": 2,
       "version_minor": 0
      },
      "text/plain": [
       "Canvas(toolbar=Toolbar(toolitems=[('Home', 'Reset original view', 'home', 'home'), ('Back', 'Back to previous …"
      ]
     },
     "metadata": {},
     "output_type": "display_data"
    },
    {
     "data": {
      "application/vnd.jupyter.widget-view+json": {
       "model_id": "a7b4671f84a54757a885c9abf10cbfe9",
       "version_major": 2,
       "version_minor": 0
      },
      "text/plain": [
       "interactive(children=(FloatSlider(value=0.0, description='t', max=10.0, step=0.05), FloatSlider(value=1.0, des…"
      ]
     },
     "metadata": {},
     "output_type": "display_data"
    }
   ],
   "source": [
    "wavePlotDemo(wavePacket)"
   ]
  },
  {
   "cell_type": "code",
   "execution_count": 44,
   "metadata": {},
   "outputs": [
    {
     "data": {
      "application/vnd.jupyter.widget-view+json": {
       "model_id": "6dc3c38d38be4e10b1dcb40510715e2d",
       "version_major": 2,
       "version_minor": 0
      },
      "text/plain": [
       "Canvas(toolbar=Toolbar(toolitems=[('Home', 'Reset original view', 'home', 'home'), ('Back', 'Back to previous …"
      ]
     },
     "metadata": {},
     "output_type": "display_data"
    },
    {
     "data": {
      "text/plain": [
       "[<matplotlib.lines.Line2D at 0x7f071b39d0b8>]"
      ]
     },
     "execution_count": 44,
     "metadata": {},
     "output_type": "execute_result"
    }
   ],
   "source": [
    "n = 10\n",
    "j = np.linspace(-n, n, 10*n)\n",
    "k = np.exp(-(j-1)**2)\n",
    "\n",
    "fig0,ax0 = plt.subplots()\n",
    "ax0.plot(j,k)"
   ]
  },
  {
   "cell_type": "code",
   "execution_count": 96,
   "metadata": {},
   "outputs": [
    {
     "data": {
      "text/plain": [
       "array([  1.,   3.,   5.,   7.,   9.,  11.,  13.,  15.,  17.,  19.,  21.,\n",
       "        23.,  25.,  27.,  29.,  31.,  33.,  35.,  37.,  39.,  41.,  43.,\n",
       "        45.,  47.,  49.,  51.,  53.,  55.,  57.,  59.,  61.,  63.,  65.,\n",
       "        67.,  69.,  71.,  73.,  75.,  77.,  79.,  81.,  83.,  85.,  87.,\n",
       "        89.,  91.,  93.,  95.,  97.,  99., 101.])"
      ]
     },
     "execution_count": 96,
     "metadata": {},
     "output_type": "execute_result"
    }
   ],
   "source": [
    "np.linspace(1 ,101, 51)"
   ]
  },
  {
   "cell_type": "code",
   "execution_count": 45,
   "metadata": {},
   "outputs": [
    {
     "data": {
      "application/vnd.jupyter.widget-view+json": {
       "model_id": "94e16511494e4b0590edcc42455c2b85",
       "version_major": 2,
       "version_minor": 0
      },
      "text/plain": [
       "Canvas(toolbar=Toolbar(toolitems=[('Home', 'Reset original view', 'home', 'home'), ('Back', 'Back to previous …"
      ]
     },
     "metadata": {},
     "output_type": "display_data"
    },
    {
     "data": {
      "application/vnd.jupyter.widget-view+json": {
       "model_id": "e023cb1c625e4f3881218e8c34e9d194",
       "version_major": 2,
       "version_minor": 0
      },
      "text/plain": [
       "interactive(children=(FloatSlider(value=0.0, description='t', max=10.0, step=0.05), FloatSlider(value=1.0, des…"
      ]
     },
     "metadata": {},
     "output_type": "display_data"
    }
   ],
   "source": [
    "wavePlotDemo(sinWave)"
   ]
  },
  {
   "cell_type": "code",
   "execution_count": 46,
   "metadata": {},
   "outputs": [
    {
     "name": "stderr",
     "output_type": "stream",
     "text": [
      "/home/eric/miniconda3/lib/python3.6/site-packages/ipykernel_launcher.py:2: RuntimeWarning: More than 20 figures have been opened. Figures created through the pyplot interface (`matplotlib.pyplot.figure`) are retained until explicitly closed and may consume too much memory. (To control this warning, see the rcParam `figure.max_open_warning`).\n",
      "  \n"
     ]
    },
    {
     "data": {
      "application/vnd.jupyter.widget-view+json": {
       "model_id": "1955166b2e90458a82e40dcfaca067a7",
       "version_major": 2,
       "version_minor": 0
      },
      "text/plain": [
       "Canvas(toolbar=Toolbar(toolitems=[('Home', 'Reset original view', 'home', 'home'), ('Back', 'Back to previous …"
      ]
     },
     "metadata": {},
     "output_type": "display_data"
    },
    {
     "data": {
      "application/vnd.jupyter.widget-view+json": {
       "model_id": "e9b0659213b04a8d94c23982d95b514e",
       "version_major": 2,
       "version_minor": 0
      },
      "text/plain": [
       "interactive(children=(FloatSlider(value=0.0, description='t', max=10.0, step=0.05), FloatSlider(value=1.0, des…"
      ]
     },
     "metadata": {},
     "output_type": "display_data"
    }
   ],
   "source": [
    "wavePlotDemo(lineWave)"
   ]
  },
  {
   "cell_type": "code",
   "execution_count": 47,
   "metadata": {},
   "outputs": [
    {
     "data": {
      "application/vnd.jupyter.widget-view+json": {
       "model_id": "c3d6be00e12244f1885a1f636f3d02b1",
       "version_major": 2,
       "version_minor": 0
      },
      "text/plain": [
       "Canvas(toolbar=Toolbar(toolitems=[('Home', 'Reset original view', 'home', 'home'), ('Back', 'Back to previous …"
      ]
     },
     "metadata": {},
     "output_type": "display_data"
    },
    {
     "data": {
      "application/vnd.jupyter.widget-view+json": {
       "model_id": "44eb2b374b7141e8b3917bd55914c5ab",
       "version_major": 2,
       "version_minor": 0
      },
      "text/plain": [
       "interactive(children=(FloatSlider(value=0.0, description='t', max=10.0, step=0.05), FloatSlider(value=1.0, des…"
      ]
     },
     "metadata": {},
     "output_type": "display_data"
    }
   ],
   "source": [
    "wavePlotDemo(notWave)"
   ]
  },
  {
   "cell_type": "code",
   "execution_count": 48,
   "metadata": {},
   "outputs": [
    {
     "data": {
      "application/vnd.jupyter.widget-view+json": {
       "model_id": "b32ec65c025d425c8ff7afd9c25c5129",
       "version_major": 2,
       "version_minor": 0
      },
      "text/plain": [
       "Canvas(toolbar=Toolbar(toolitems=[('Home', 'Reset original view', 'home', 'home'), ('Back', 'Back to previous …"
      ]
     },
     "metadata": {},
     "output_type": "display_data"
    },
    {
     "data": {
      "application/vnd.jupyter.widget-view+json": {
       "model_id": "df71aedec5114eabba689acb4c2f2477",
       "version_major": 2,
       "version_minor": 0
      },
      "text/plain": [
       "interactive(children=(FloatSlider(value=0.0, description='t', max=10.0, step=0.05), FloatSlider(value=1.0, des…"
      ]
     },
     "metadata": {},
     "output_type": "display_data"
    }
   ],
   "source": [
    "wavePlotDemo(notWave2)"
   ]
  },
  {
   "cell_type": "code",
   "execution_count": null,
   "metadata": {},
   "outputs": [],
   "source": []
  },
  {
   "cell_type": "markdown",
   "metadata": {},
   "source": [
    "# Superposition"
   ]
  },
  {
   "cell_type": "code",
   "execution_count": 66,
   "metadata": {},
   "outputs": [],
   "source": [
    "def interfereDemo(func1,func2):\n",
    "    fig2 = plt.figure(figsize=(8,5))\n",
    "    ax2 = fig2.add_subplot(111)\n",
    "    x = np.linspace(0,20,1000)\n",
    "    line21, = ax2.plot([],[])\n",
    "    line22, = ax2.plot([],[])\n",
    "    line23, = ax2.plot([],[])\n",
    "    ax2.set_ylim((-3,6))\n",
    "    ax2.set_xlim((0,20))\n",
    "    ax2.hlines(0,0,20)\n",
    "    \n",
    "    def plot2(t=0, a=1, k=.2, ph=0):\n",
    "        wave1 = func1(x,t,1,.2,1,0)\n",
    "        wave2 = func2(x,t,a,k,1,ph)\n",
    "        line21.set_data(x,wave1)\n",
    "        line22.set_data(x,wave2)\n",
    "        line23.set_data(x,wave1+wave2+3)\n",
    "        plt.draw()\n",
    "    \n",
    "    interact(plot2, t=(0,20,.05), a=(1,5,.1), k=(.01,1,.01), ph=(0,6.3,.1))"
   ]
  },
  {
   "cell_type": "code",
   "execution_count": 67,
   "metadata": {},
   "outputs": [
    {
     "data": {
      "application/vnd.jupyter.widget-view+json": {
       "model_id": "88d4c61e377a4b24b7f739449f8e52ae",
       "version_major": 2,
       "version_minor": 0
      },
      "text/plain": [
       "Canvas(toolbar=Toolbar(toolitems=[('Home', 'Reset original view', 'home', 'home'), ('Back', 'Back to previous …"
      ]
     },
     "metadata": {},
     "output_type": "display_data"
    },
    {
     "data": {
      "application/vnd.jupyter.widget-view+json": {
       "model_id": "0f35b0fb46454d0cb7e90db5302e9443",
       "version_major": 2,
       "version_minor": 0
      },
      "text/plain": [
       "interactive(children=(FloatSlider(value=0.0, description='t', max=20.0, step=0.05), FloatSlider(value=1.0, des…"
      ]
     },
     "metadata": {},
     "output_type": "display_data"
    }
   ],
   "source": [
    "interfereDemo(gaussWave, gaussWaveRev)"
   ]
  },
  {
   "cell_type": "code",
   "execution_count": 68,
   "metadata": {},
   "outputs": [
    {
     "data": {
      "application/vnd.jupyter.widget-view+json": {
       "model_id": "afd42ab58aa447cf9afef07be8402eee",
       "version_major": 2,
       "version_minor": 0
      },
      "text/plain": [
       "Canvas(toolbar=Toolbar(toolitems=[('Home', 'Reset original view', 'home', 'home'), ('Back', 'Back to previous …"
      ]
     },
     "metadata": {},
     "output_type": "display_data"
    },
    {
     "data": {
      "application/vnd.jupyter.widget-view+json": {
       "model_id": "cdfb5b4c98124e7897a41f12dd8c04ac",
       "version_major": 2,
       "version_minor": 0
      },
      "text/plain": [
       "interactive(children=(FloatSlider(value=0.0, description='t', max=20.0, step=0.05), FloatSlider(value=1.0, des…"
      ]
     },
     "metadata": {},
     "output_type": "display_data"
    }
   ],
   "source": [
    "interfereDemo(sinWave, sinWave)"
   ]
  },
  {
   "cell_type": "markdown",
   "metadata": {},
   "source": [
    "# Interference"
   ]
  },
  {
   "cell_type": "code",
   "execution_count": 69,
   "metadata": {},
   "outputs": [
    {
     "data": {
      "application/vnd.jupyter.widget-view+json": {
       "model_id": "94528383b90b4456969b4906d7a07da4",
       "version_major": 2,
       "version_minor": 0
      },
      "text/plain": [
       "Canvas(toolbar=Toolbar(toolitems=[('Home', 'Reset original view', 'home', 'home'), ('Back', 'Back to previous …"
      ]
     },
     "metadata": {},
     "output_type": "display_data"
    },
    {
     "data": {
      "application/vnd.jupyter.widget-view+json": {
       "model_id": "8b85d9b5d1514460aa6b0d7cdae88326",
       "version_major": 2,
       "version_minor": 0
      },
      "text/plain": [
       "interactive(children=(FloatSlider(value=0.0, description='t', max=20.0, step=0.05), FloatSlider(value=1.0, des…"
      ]
     },
     "metadata": {},
     "output_type": "display_data"
    }
   ],
   "source": [
    "interfereDemo(sinWave, sinWave)"
   ]
  },
  {
   "cell_type": "markdown",
   "metadata": {},
   "source": [
    "# Frequency Beating"
   ]
  },
  {
   "cell_type": "code",
   "execution_count": 82,
   "metadata": {},
   "outputs": [
    {
     "data": {
      "application/vnd.jupyter.widget-view+json": {
       "model_id": "5b23f7bab46744c5bc443e884866dae3",
       "version_major": 2,
       "version_minor": 0
      },
      "text/plain": [
       "Canvas(toolbar=Toolbar(toolitems=[('Home', 'Reset original view', 'home', 'home'), ('Back', 'Back to previous …"
      ]
     },
     "metadata": {},
     "output_type": "display_data"
    },
    {
     "data": {
      "application/vnd.jupyter.widget-view+json": {
       "model_id": "610254475d9048a597e555c9ddb6a9b8",
       "version_major": 2,
       "version_minor": 0
      },
      "text/plain": [
       "interactive(children=(FloatSlider(value=0.0, description='t', max=10.0, step=0.05), FloatSlider(value=1.0, des…"
      ]
     },
     "metadata": {},
     "output_type": "display_data"
    }
   ],
   "source": [
    "fig2 = plt.figure(figsize=(8,5))\n",
    "ax2 = fig2.add_subplot(111)\n",
    "x = np.linspace(0,20,1000)\n",
    "line21, = ax2.plot([],[])\n",
    "line22, = ax2.plot([],[])\n",
    "line23, = ax2.plot([],[])\n",
    "ax2.set_ylim((-2,5))\n",
    "ax2.hlines(0,0,20)\n",
    "\n",
    "def plot2(t=0, a=1, k=1, ph=0):\n",
    "    wave1 = sinWave(x,t,1,2,1,0)\n",
    "    wave2 = sinWave(x,t,a,2*k,1,ph)\n",
    "    line21.set_data(x,wave1)\n",
    "    line22.set_data(x,wave2)\n",
    "    line23.set_data(x,wave1+wave2+3)\n",
    "    plt.draw()\n",
    "    \n",
    "interact(plot2, t=(0,10,.05), a=(1,5,.1), k=(1,1.5,.01), ph=(0,6.3,.1));"
   ]
  },
  {
   "cell_type": "markdown",
   "metadata": {},
   "source": [
    "# Standing Waves"
   ]
  },
  {
   "cell_type": "code",
   "execution_count": 71,
   "metadata": {},
   "outputs": [
    {
     "data": {
      "application/vnd.jupyter.widget-view+json": {
       "model_id": "757fcded9af04398a779129ac77e837c",
       "version_major": 2,
       "version_minor": 0
      },
      "text/plain": [
       "Canvas(toolbar=Toolbar(toolitems=[('Home', 'Reset original view', 'home', 'home'), ('Back', 'Back to previous …"
      ]
     },
     "metadata": {},
     "output_type": "display_data"
    },
    {
     "data": {
      "application/vnd.jupyter.widget-view+json": {
       "model_id": "8bc4e18db7c7459eb4ac5945e5d14fe5",
       "version_major": 2,
       "version_minor": 0
      },
      "text/plain": [
       "interactive(children=(FloatSlider(value=0.0, description='t', max=30.0, step=0.02), Output()), _dom_classes=('…"
      ]
     },
     "metadata": {},
     "output_type": "display_data"
    }
   ],
   "source": [
    "fig3 = plt.figure(figsize=(8,5))\n",
    "ax3 = fig3.add_subplot(111)\n",
    "x = np.linspace(0,50,500)\n",
    "line1, = ax3.plot([],[])\n",
    "line2, = ax3.plot([],[])\n",
    "line3, = ax3.plot([],[])\n",
    "ax3.set_ylim((-1.1,5))\n",
    "ax3.hlines(0,0,50)\n",
    "ax3.hlines(3,0,50)\n",
    "ax3.vlines(21.88, -5, 5, color='k')\n",
    "\n",
    "def wave1(x,t):\n",
    "    return np.sin(5*t-x)*np.heaviside(-x+5*t,1)\n",
    "\n",
    "def wave2(x,t):\n",
    "    return np.sin(-5*t-(x-50))*np.heaviside((x-50)+5*t,1)\n",
    "\n",
    "def plot3(t=0):\n",
    "    line1.set_data(x,wave1(x,t))\n",
    "    line2.set_data(x,wave2(x,t))\n",
    "    line3.set_data(x,wave1(x,t)+wave2(x,t)+3)\n",
    "    plt.draw()\n",
    "    \n",
    "interact(plot3, t=(0,30,.02));"
   ]
  },
  {
   "cell_type": "markdown",
   "metadata": {},
   "source": [
    "# Phase velocity vs Group velocity"
   ]
  },
  {
   "cell_type": "code",
   "execution_count": 83,
   "metadata": {},
   "outputs": [],
   "source": [
    "def phasePlotDemo(wavefunc):\n",
    "    fig0 = plt.figure(figsize=(8,5))\n",
    "    ax0 = fig0.add_subplot(111)\n",
    "    x = np.linspace(-5,20,1000)\n",
    "    line01, = ax0.plot([],[], color='gray')\n",
    "    line02, = ax0.plot([],[])\n",
    "    ax0.set_xlim((-5,20))\n",
    "    ax0.set_ylim((-5,5))\n",
    "    ax0.axhline(0, color='k')\n",
    "    ax0.axvline(0, color='k')\n",
    "    ax0.set_xlabel('horizontal position')\n",
    "    ax0.set_ylabel('vertical position')\n",
    "    \n",
    "    def plot0(t=0, k=1, v=1): # set initial k and v values here\n",
    "        # wave1 = wavefunc(x,0,1,.1,1)\n",
    "        wave2 = wavefunc(x,t,1,k,v)\n",
    "        # line01.set_data(x,wave1)\n",
    "        line02.set_data(x,wave2)\n",
    "        plt.draw()\n",
    "    interact(plot0, t=(0,10,.05), k=(.1,10,.1), v=(1,10,.1))\n"
   ]
  },
  {
   "cell_type": "code",
   "execution_count": 124,
   "metadata": {},
   "outputs": [],
   "source": [
    "def wavePacket(x,t,a,k,v, ph=0):\n",
    "    n = 100\n",
    "    j = np.linspace(-n, n, 10*n)\n",
    "    y = 0\n",
    "    for i in j:\n",
    "        a = 100/n*np.exp(-10*(i-3)**2)\n",
    "        y = y + a*np.cos(2*np.pi*i*k*(x-v*t)+ph)\n",
    "    return(y)"
   ]
  },
  {
   "cell_type": "code",
   "execution_count": 125,
   "metadata": {},
   "outputs": [
    {
     "data": {
      "application/vnd.jupyter.widget-view+json": {
       "model_id": "be26e030013349f99d50d419003dd25c",
       "version_major": 2,
       "version_minor": 0
      },
      "text/plain": [
       "Canvas(toolbar=Toolbar(toolitems=[('Home', 'Reset original view', 'home', 'home'), ('Back', 'Back to previous …"
      ]
     },
     "metadata": {},
     "output_type": "display_data"
    },
    {
     "data": {
      "application/vnd.jupyter.widget-view+json": {
       "model_id": "4664d586dd7240f6a1e8cc3c176f9d62",
       "version_major": 2,
       "version_minor": 0
      },
      "text/plain": [
       "interactive(children=(FloatSlider(value=0.0, description='t', max=10.0, step=0.05), FloatSlider(value=1.0, des…"
      ]
     },
     "metadata": {},
     "output_type": "display_data"
    }
   ],
   "source": [
    "phasePlotDemo(wavePacket)"
   ]
  },
  {
   "cell_type": "code",
   "execution_count": null,
   "metadata": {},
   "outputs": [],
   "source": []
  },
  {
   "cell_type": "code",
   "execution_count": null,
   "metadata": {},
   "outputs": [],
   "source": []
  }
 ],
 "metadata": {
  "kernelspec": {
   "display_name": "Python 3",
   "language": "python",
   "name": "python3"
  },
  "language_info": {
   "codemirror_mode": {
    "name": "ipython",
    "version": 3
   },
   "file_extension": ".py",
   "mimetype": "text/x-python",
   "name": "python",
   "nbconvert_exporter": "python",
   "pygments_lexer": "ipython3",
   "version": "3.6.13"
  },
  "widgets": {
   "application/vnd.jupyter.widget-state+json": {
    "state": {
     "00fa17e712e14d2fade64d6bf01ec93e": {
      "model_module": "@jupyter-widgets/base",
      "model_module_version": "1.1.0",
      "model_name": "LayoutModel",
      "state": {}
     },
     "08959b71f85e4063bcef53c86c0b6421": {
      "model_module": "@jupyter-widgets/base",
      "model_module_version": "1.1.0",
      "model_name": "LayoutModel",
      "state": {}
     },
     "15aadf49d4084b68b1a93b38f4ad3eb1": {
      "model_module": "@jupyter-widgets/controls",
      "model_module_version": "1.3.0",
      "model_name": "SliderStyleModel",
      "state": {
       "description_width": ""
      }
     },
     "301068d7f7744fc1b8ed4739a3d600ab": {
      "model_module": "@jupyter-widgets/base",
      "model_module_version": "1.1.0",
      "model_name": "LayoutModel",
      "state": {}
     },
     "30ddd2f398b04e539080f946ccac5a74": {
      "model_module": "@jupyter-widgets/base",
      "model_module_version": "1.1.0",
      "model_name": "LayoutModel",
      "state": {}
     },
     "370a391df3ad4b548050b43f0111031b": {
      "model_module": "@jupyter-widgets/controls",
      "model_module_version": "1.3.0",
      "model_name": "FloatSliderModel",
      "state": {
       "description": "w",
       "layout": "IPY_MODEL_30ddd2f398b04e539080f946ccac5a74",
       "max": 10,
       "min": 1,
       "step": 0.1,
       "style": "IPY_MODEL_6ab4f365cb214a27bc53e60ef5fc19f1",
       "value": 1
      }
     },
     "3f601b4a9e884a4487cc267cc3664a79": {
      "model_module": "@jupyter-widgets/controls",
      "model_module_version": "1.3.0",
      "model_name": "FloatSliderModel",
      "state": {
       "description": "t",
       "layout": "IPY_MODEL_bc420aa46bd64d34855956644437d354",
       "max": 10,
       "step": 0.05,
       "style": "IPY_MODEL_6e678c187d1d4d39b1b7d55055291225"
      }
     },
     "4383a39d3ae1458c8441a7a1478abb9b": {
      "model_module": "@jupyter-widgets/controls",
      "model_module_version": "1.3.0",
      "model_name": "FloatSliderModel",
      "state": {
       "description": "k",
       "layout": "IPY_MODEL_301068d7f7744fc1b8ed4739a3d600ab",
       "max": 10,
       "min": 0.1,
       "step": 0.1,
       "style": "IPY_MODEL_88eaca4b2fb548f2a7d7d44dae30ff92",
       "value": 1
      }
     },
     "53d760b3e1fc4048b3bfca5417a408eb": {
      "model_module": "@jupyter-widgets/output",
      "model_module_version": "1.0.0",
      "model_name": "OutputModel",
      "state": {
       "layout": "IPY_MODEL_08959b71f85e4063bcef53c86c0b6421"
      }
     },
     "60dc867b737e4fb4bd905bb4f32fc89b": {
      "model_module": "@jupyter-widgets/output",
      "model_module_version": "1.0.0",
      "model_name": "OutputModel",
      "state": {
       "layout": "IPY_MODEL_7e61c7a6199f480ebde920e8cde1f7ed"
      }
     },
     "69d1c60db73c4cd8a4941ced19340ccc": {
      "model_module": "@jupyter-widgets/controls",
      "model_module_version": "1.3.0",
      "model_name": "FloatSliderModel",
      "state": {
       "description": "k",
       "layout": "IPY_MODEL_bf8e3fe06aba480d83fc692cd47d0acf",
       "max": 10,
       "min": 0.1,
       "step": 0.1,
       "style": "IPY_MODEL_15aadf49d4084b68b1a93b38f4ad3eb1",
       "value": 1
      }
     },
     "6ab4f365cb214a27bc53e60ef5fc19f1": {
      "model_module": "@jupyter-widgets/controls",
      "model_module_version": "1.3.0",
      "model_name": "SliderStyleModel",
      "state": {
       "description_width": ""
      }
     },
     "6e678c187d1d4d39b1b7d55055291225": {
      "model_module": "@jupyter-widgets/controls",
      "model_module_version": "1.3.0",
      "model_name": "SliderStyleModel",
      "state": {
       "description_width": ""
      }
     },
     "7c2a8821b2e1444ab509df086f4aec98": {
      "model_module": "@jupyter-widgets/base",
      "model_module_version": "1.1.0",
      "model_name": "LayoutModel",
      "state": {}
     },
     "7ca5bfdd702f41d79b8a7f307ceaa5a6": {
      "model_module": "@jupyter-widgets/base",
      "model_module_version": "1.1.0",
      "model_name": "LayoutModel",
      "state": {}
     },
     "7e61c7a6199f480ebde920e8cde1f7ed": {
      "model_module": "@jupyter-widgets/base",
      "model_module_version": "1.1.0",
      "model_name": "LayoutModel",
      "state": {}
     },
     "86c6142bfd724166b6d36f47dd2eb05e": {
      "model_module": "@jupyter-widgets/controls",
      "model_module_version": "1.3.0",
      "model_name": "VBoxModel",
      "state": {
       "_dom_classes": [
        "widget-interact"
       ],
       "children": [
        "IPY_MODEL_3f601b4a9e884a4487cc267cc3664a79",
        "IPY_MODEL_370a391df3ad4b548050b43f0111031b",
        "IPY_MODEL_69d1c60db73c4cd8a4941ced19340ccc",
        "IPY_MODEL_53d760b3e1fc4048b3bfca5417a408eb"
       ],
       "layout": "IPY_MODEL_da6eacac7f5d49d0b15cfeba3b89a2c4"
      }
     },
     "8721ccc798a740ae81c57d0c85441cde": {
      "model_module": "@jupyter-widgets/controls",
      "model_module_version": "1.3.0",
      "model_name": "FloatSliderModel",
      "state": {
       "description": "t",
       "layout": "IPY_MODEL_00fa17e712e14d2fade64d6bf01ec93e",
       "max": 10,
       "step": 0.05,
       "style": "IPY_MODEL_b1794922e53b44c59615d8a28522925d",
       "value": 1.6
      }
     },
     "88eaca4b2fb548f2a7d7d44dae30ff92": {
      "model_module": "@jupyter-widgets/controls",
      "model_module_version": "1.3.0",
      "model_name": "SliderStyleModel",
      "state": {
       "description_width": ""
      }
     },
     "8ad19cff74a34f39b2e7b365a11efb7a": {
      "model_module": "@jupyter-widgets/controls",
      "model_module_version": "1.3.0",
      "model_name": "SliderStyleModel",
      "state": {
       "description_width": ""
      }
     },
     "aba95f3ab4be4664b7bee375c5b39600": {
      "model_module": "@jupyter-widgets/controls",
      "model_module_version": "1.3.0",
      "model_name": "FloatSliderModel",
      "state": {
       "description": "w",
       "layout": "IPY_MODEL_7ca5bfdd702f41d79b8a7f307ceaa5a6",
       "max": 10,
       "min": 1,
       "step": 0.1,
       "style": "IPY_MODEL_8ad19cff74a34f39b2e7b365a11efb7a",
       "value": 1
      }
     },
     "b1794922e53b44c59615d8a28522925d": {
      "model_module": "@jupyter-widgets/controls",
      "model_module_version": "1.3.0",
      "model_name": "SliderStyleModel",
      "state": {
       "description_width": ""
      }
     },
     "bc420aa46bd64d34855956644437d354": {
      "model_module": "@jupyter-widgets/base",
      "model_module_version": "1.1.0",
      "model_name": "LayoutModel",
      "state": {}
     },
     "bf8e3fe06aba480d83fc692cd47d0acf": {
      "model_module": "@jupyter-widgets/base",
      "model_module_version": "1.1.0",
      "model_name": "LayoutModel",
      "state": {}
     },
     "c1d419f0243b4f9c8c805b4f3ff6346b": {
      "model_module": "@jupyter-widgets/controls",
      "model_module_version": "1.3.0",
      "model_name": "VBoxModel",
      "state": {
       "_dom_classes": [
        "widget-interact"
       ],
       "children": [
        "IPY_MODEL_8721ccc798a740ae81c57d0c85441cde",
        "IPY_MODEL_aba95f3ab4be4664b7bee375c5b39600",
        "IPY_MODEL_4383a39d3ae1458c8441a7a1478abb9b",
        "IPY_MODEL_60dc867b737e4fb4bd905bb4f32fc89b"
       ],
       "layout": "IPY_MODEL_7c2a8821b2e1444ab509df086f4aec98"
      }
     },
     "da6eacac7f5d49d0b15cfeba3b89a2c4": {
      "model_module": "@jupyter-widgets/base",
      "model_module_version": "1.1.0",
      "model_name": "LayoutModel",
      "state": {}
     }
    },
    "version_major": 2,
    "version_minor": 0
   }
  }
 },
 "nbformat": 4,
 "nbformat_minor": 4
}
