{
 "cells": [
  {
   "cell_type": "markdown",
   "id": "5ff9f8be-192d-4af5-98bd-c59b035c2966",
   "metadata": {},
   "source": [
    "# Problem 2.11 from Hecht\n",
    "\n",
    "This is a good problem to get the students started with producing data and plots. \n",
    "\n",
    "One difference from the way I do it and the text book is I swap rows and columns from the text."
   ]
  },
  {
   "cell_type": "code",
   "execution_count": 1,
   "id": "e45d56d1-5f51-4374-8709-82054c3b9e12",
   "metadata": {},
   "outputs": [],
   "source": [
    "import pandas as pd\n",
    "import numpy as np"
   ]
  },
  {
   "cell_type": "code",
   "execution_count": 23,
   "id": "f16bb65b-ff25-4912-ab25-3fbcee0e05ee",
   "metadata": {},
   "outputs": [],
   "source": [
    "theta = np.linspace(-np.pi/2, 2*np.pi, 100)\n"
   ]
  },
  {
   "cell_type": "code",
   "execution_count": 24,
   "id": "ef260f83-cae0-454f-8cfc-32707f7e513e",
   "metadata": {},
   "outputs": [],
   "source": [
    "df = pd.DataFrame(theta, columns=['theta'])"
   ]
  },
  {
   "cell_type": "code",
   "execution_count": 25,
   "id": "f0f37a6b-0db6-4018-b163-f765870e7004",
   "metadata": {},
   "outputs": [],
   "source": [
    "df['sin'] = np.sin(df['theta'])"
   ]
  },
  {
   "cell_type": "code",
   "execution_count": 26,
   "id": "5338a2c8-58e6-4478-ad6b-7bde9e0cf202",
   "metadata": {},
   "outputs": [],
   "source": [
    "df['cos'] = np.cos(df['theta'])"
   ]
  },
  {
   "cell_type": "code",
   "execution_count": 27,
   "id": "04733e86-78ea-47f2-be09-e94dd8321908",
   "metadata": {},
   "outputs": [],
   "source": [
    "df['sin-pi/4'] = np.sin(df['theta']-np.pi/4)"
   ]
  },
  {
   "cell_type": "code",
   "execution_count": 29,
   "id": "aa0eedd0-700d-4d2a-ae7f-fad8622f7377",
   "metadata": {},
   "outputs": [],
   "source": [
    "df['sin-pi/2'] = np.sin(df['theta']-np.pi/2)\n",
    "df['sin-3pi/4'] = np.sin(df['theta']-3*np.pi/4)\n",
    "df['sin+pi/2'] = np.sin(df['theta']+np.pi/2)"
   ]
  },
  {
   "cell_type": "code",
   "execution_count": 30,
   "id": "d345c286-5e07-49c1-975b-ea31af6a5574",
   "metadata": {
    "collapsed": true,
    "jupyter": {
     "outputs_hidden": true
    },
    "tags": []
   },
   "outputs": [
    {
     "data": {
      "text/html": [
       "<div>\n",
       "<style scoped>\n",
       "    .dataframe tbody tr th:only-of-type {\n",
       "        vertical-align: middle;\n",
       "    }\n",
       "\n",
       "    .dataframe tbody tr th {\n",
       "        vertical-align: top;\n",
       "    }\n",
       "\n",
       "    .dataframe thead th {\n",
       "        text-align: right;\n",
       "    }\n",
       "</style>\n",
       "<table border=\"1\" class=\"dataframe\">\n",
       "  <thead>\n",
       "    <tr style=\"text-align: right;\">\n",
       "      <th></th>\n",
       "      <th>theta</th>\n",
       "      <th>sin</th>\n",
       "      <th>cos</th>\n",
       "      <th>sin-pi/4</th>\n",
       "      <th>sin-pi/2</th>\n",
       "      <th>sin-3pi/4</th>\n",
       "      <th>sin+pi/2</th>\n",
       "    </tr>\n",
       "  </thead>\n",
       "  <tbody>\n",
       "    <tr>\n",
       "      <th>0</th>\n",
       "      <td>-1.570796</td>\n",
       "      <td>-1.000000e+00</td>\n",
       "      <td>6.123234e-17</td>\n",
       "      <td>-0.707107</td>\n",
       "      <td>-1.224647e-16</td>\n",
       "      <td>0.707107</td>\n",
       "      <td>0.000000</td>\n",
       "    </tr>\n",
       "    <tr>\n",
       "      <th>1</th>\n",
       "      <td>-1.491463</td>\n",
       "      <td>-9.968548e-01</td>\n",
       "      <td>7.924996e-02</td>\n",
       "      <td>-0.760921</td>\n",
       "      <td>-7.924996e-02</td>\n",
       "      <td>0.648845</td>\n",
       "      <td>0.079250</td>\n",
       "    </tr>\n",
       "    <tr>\n",
       "      <th>2</th>\n",
       "      <td>-1.412130</td>\n",
       "      <td>-9.874389e-01</td>\n",
       "      <td>1.580014e-01</td>\n",
       "      <td>-0.809949</td>\n",
       "      <td>-1.580014e-01</td>\n",
       "      <td>0.586501</td>\n",
       "      <td>0.158001</td>\n",
       "    </tr>\n",
       "    <tr>\n",
       "      <th>3</th>\n",
       "      <td>-1.332797</td>\n",
       "      <td>-9.718116e-01</td>\n",
       "      <td>2.357589e-01</td>\n",
       "      <td>-0.853881</td>\n",
       "      <td>-2.357589e-01</td>\n",
       "      <td>0.520468</td>\n",
       "      <td>0.235759</td>\n",
       "    </tr>\n",
       "    <tr>\n",
       "      <th>4</th>\n",
       "      <td>-1.253464</td>\n",
       "      <td>-9.500711e-01</td>\n",
       "      <td>3.120334e-01</td>\n",
       "      <td>-0.892443</td>\n",
       "      <td>-3.120334e-01</td>\n",
       "      <td>0.451161</td>\n",
       "      <td>0.312033</td>\n",
       "    </tr>\n",
       "    <tr>\n",
       "      <th>...</th>\n",
       "      <td>...</td>\n",
       "      <td>...</td>\n",
       "      <td>...</td>\n",
       "      <td>...</td>\n",
       "      <td>...</td>\n",
       "      <td>...</td>\n",
       "      <td>...</td>\n",
       "    </tr>\n",
       "    <tr>\n",
       "      <th>95</th>\n",
       "      <td>5.965853</td>\n",
       "      <td>-3.120334e-01</td>\n",
       "      <td>9.500711e-01</td>\n",
       "      <td>-0.892443</td>\n",
       "      <td>-9.500711e-01</td>\n",
       "      <td>-0.451161</td>\n",
       "      <td>0.950071</td>\n",
       "    </tr>\n",
       "    <tr>\n",
       "      <th>96</th>\n",
       "      <td>6.045186</td>\n",
       "      <td>-2.357589e-01</td>\n",
       "      <td>9.718116e-01</td>\n",
       "      <td>-0.853881</td>\n",
       "      <td>-9.718116e-01</td>\n",
       "      <td>-0.520468</td>\n",
       "      <td>0.971812</td>\n",
       "    </tr>\n",
       "    <tr>\n",
       "      <th>97</th>\n",
       "      <td>6.124519</td>\n",
       "      <td>-1.580014e-01</td>\n",
       "      <td>9.874389e-01</td>\n",
       "      <td>-0.809949</td>\n",
       "      <td>-9.874389e-01</td>\n",
       "      <td>-0.586501</td>\n",
       "      <td>0.987439</td>\n",
       "    </tr>\n",
       "    <tr>\n",
       "      <th>98</th>\n",
       "      <td>6.203852</td>\n",
       "      <td>-7.924996e-02</td>\n",
       "      <td>9.968548e-01</td>\n",
       "      <td>-0.760921</td>\n",
       "      <td>-9.968548e-01</td>\n",
       "      <td>-0.648845</td>\n",
       "      <td>0.996855</td>\n",
       "    </tr>\n",
       "    <tr>\n",
       "      <th>99</th>\n",
       "      <td>6.283185</td>\n",
       "      <td>-2.449294e-16</td>\n",
       "      <td>1.000000e+00</td>\n",
       "      <td>-0.707107</td>\n",
       "      <td>-1.000000e+00</td>\n",
       "      <td>-0.707107</td>\n",
       "      <td>1.000000</td>\n",
       "    </tr>\n",
       "  </tbody>\n",
       "</table>\n",
       "<p>100 rows × 7 columns</p>\n",
       "</div>"
      ],
      "text/plain": [
       "       theta           sin           cos  sin-pi/4      sin-pi/2  sin-3pi/4  \\\n",
       "0  -1.570796 -1.000000e+00  6.123234e-17 -0.707107 -1.224647e-16   0.707107   \n",
       "1  -1.491463 -9.968548e-01  7.924996e-02 -0.760921 -7.924996e-02   0.648845   \n",
       "2  -1.412130 -9.874389e-01  1.580014e-01 -0.809949 -1.580014e-01   0.586501   \n",
       "3  -1.332797 -9.718116e-01  2.357589e-01 -0.853881 -2.357589e-01   0.520468   \n",
       "4  -1.253464 -9.500711e-01  3.120334e-01 -0.892443 -3.120334e-01   0.451161   \n",
       "..       ...           ...           ...       ...           ...        ...   \n",
       "95  5.965853 -3.120334e-01  9.500711e-01 -0.892443 -9.500711e-01  -0.451161   \n",
       "96  6.045186 -2.357589e-01  9.718116e-01 -0.853881 -9.718116e-01  -0.520468   \n",
       "97  6.124519 -1.580014e-01  9.874389e-01 -0.809949 -9.874389e-01  -0.586501   \n",
       "98  6.203852 -7.924996e-02  9.968548e-01 -0.760921 -9.968548e-01  -0.648845   \n",
       "99  6.283185 -2.449294e-16  1.000000e+00 -0.707107 -1.000000e+00  -0.707107   \n",
       "\n",
       "    sin+pi/2  \n",
       "0   0.000000  \n",
       "1   0.079250  \n",
       "2   0.158001  \n",
       "3   0.235759  \n",
       "4   0.312033  \n",
       "..       ...  \n",
       "95  0.950071  \n",
       "96  0.971812  \n",
       "97  0.987439  \n",
       "98  0.996855  \n",
       "99  1.000000  \n",
       "\n",
       "[100 rows x 7 columns]"
      ]
     },
     "execution_count": 30,
     "metadata": {},
     "output_type": "execute_result"
    }
   ],
   "source": [
    "df"
   ]
  },
  {
   "cell_type": "code",
   "execution_count": 31,
   "id": "7220d344-3b36-4072-92d6-89d867e78029",
   "metadata": {},
   "outputs": [],
   "source": [
    "import matplotlib.pyplot as plt"
   ]
  },
  {
   "cell_type": "code",
   "execution_count": 39,
   "id": "1e1e98f2-cb27-4e83-978d-6d35af5eb641",
   "metadata": {
    "collapsed": true,
    "jupyter": {
     "outputs_hidden": true
    }
   },
   "outputs": [
    {
     "data": {
      "application/vnd.jupyter.widget-view+json": {
       "model_id": "3bd4f316b1244ca498dc61770f2dd163",
       "version_major": 2,
       "version_minor": 0
      },
      "text/plain": [
       "Canvas(toolbar=Toolbar(toolitems=[('Home', 'Reset original view', 'home', 'home'), ('Back', 'Back to previous …"
      ]
     },
     "metadata": {},
     "output_type": "display_data"
    },
    {
     "data": {
      "text/plain": [
       "<matplotlib.legend.Legend at 0x7f3ab5ef4748>"
      ]
     },
     "execution_count": 39,
     "metadata": {},
     "output_type": "execute_result"
    }
   ],
   "source": [
    "fig0, ax0 = plt.subplots()\n",
    "ax0.plot(df['theta'], df['sin'], label='sin')\n",
    "ax0.plot(df['theta'], df['sin-pi/2'], label='-pi/2')\n",
    "ax0.plot(df['theta'], df['sin-pi/4'], label='-pi/4')\n",
    "ax0.plot(df['theta'], df['sin-3pi/4'], label='-3pi/4')\n",
    "ax0.legend(loc='upper right')"
   ]
  },
  {
   "cell_type": "markdown",
   "id": "476983d7-d5b8-4d4e-b56a-112e5adc5ecb",
   "metadata": {},
   "source": [
    "# Problem 2.15\n",
    "\n",
    "Problem 15 is similar so I'll do it below, though tbh it is not as good.\n",
    "\n",
    "$k = 2\\pi/\\lambda$ and $x = \\lambda/2$ so what this really means is go from -pi to pi. "
   ]
  },
  {
   "cell_type": "code",
   "execution_count": 2,
   "id": "11b0c4c4-e6be-4fba-8ba4-d8954b857c73",
   "metadata": {},
   "outputs": [],
   "source": [
    "kx = np.linspace(-2*np.pi/2, 2*np.pi,100)\n",
    "\n",
    "df1 = pd.DataFrame(kx, columns=['kx'])"
   ]
  },
  {
   "cell_type": "code",
   "execution_count": 3,
   "id": "be992e22-2f00-4e4a-a7e5-3e5b0ca687df",
   "metadata": {},
   "outputs": [],
   "source": [
    "df1['cos'] = np.cos(df1['kx'])\n",
    "df1['cos-pi/4'] = np.cos(df1['kx']-np.pi/4)"
   ]
  },
  {
   "cell_type": "code",
   "execution_count": 4,
   "id": "e13a7a0a-0a8d-4fad-a8c5-ead261886dba",
   "metadata": {},
   "outputs": [],
   "source": [
    "df1['cos-pi/2'] = np.cos(df1['kx']-np.pi/2)"
   ]
  },
  {
   "cell_type": "code",
   "execution_count": 5,
   "id": "a9774f1b-1b5e-4721-b0d6-9e6940e6ef37",
   "metadata": {},
   "outputs": [],
   "source": [
    "df1['cos+3pi/4'] = np.cos(df1['kx']+3*np.pi/4)"
   ]
  },
  {
   "cell_type": "code",
   "execution_count": 6,
   "id": "e3cccfa9-a795-488a-9f3b-00adfe2128ad",
   "metadata": {},
   "outputs": [
    {
     "data": {
      "application/vnd.jupyter.widget-view+json": {
       "model_id": "2c133cf16d9041e9b3e97bfecc30123b",
       "version_major": 2,
       "version_minor": 0
      },
      "text/plain": [
       "Canvas(toolbar=Toolbar(toolitems=[('Home', 'Reset original view', 'home', 'home'), ('Back', 'Back to previous …"
      ]
     },
     "metadata": {},
     "output_type": "display_data"
    },
    {
     "data": {
      "text/plain": [
       "[<matplotlib.lines.Line2D at 0x7f90a7eb2588>]"
      ]
     },
     "execution_count": 6,
     "metadata": {},
     "output_type": "execute_result"
    }
   ],
   "source": [
    "fig1,ax1 = plt.subplots()\n",
    "ax1.plot(df1['kx'],df1['cos-pi/4'],label='-pi/4')\n",
    "ax1.plot(df1['kx'],df1['cos+3pi/4'],label='+3pi/4')"
   ]
  },
  {
   "cell_type": "code",
   "execution_count": 7,
   "id": "fb002ca9-f325-43c6-9238-7ee3e192507c",
   "metadata": {},
   "outputs": [
    {
     "data": {
      "application/vnd.jupyter.widget-view+json": {
       "model_id": "baf11c132c904b228c46242b9a9debe4",
       "version_major": 2,
       "version_minor": 0
      },
      "text/plain": [
       "Canvas(toolbar=Toolbar(toolitems=[('Home', 'Reset original view', 'home', 'home'), ('Back', 'Back to previous …"
      ]
     },
     "metadata": {},
     "output_type": "display_data"
    },
    {
     "data": {
      "text/plain": [
       "[<matplotlib.lines.Line2D at 0x7f90a7235a58>]"
      ]
     },
     "execution_count": 7,
     "metadata": {},
     "output_type": "execute_result"
    }
   ],
   "source": [
    "fig2, ax2 = plt.subplots()\n",
    "ax2.plot(df1['kx'], 15*np.cos(df1['kx']-np.pi/4))\n",
    "ax2.plot(df1['kx'], 25*np.cos(df1['kx']-3*np.pi/4))"
   ]
  },
  {
   "cell_type": "markdown",
   "id": "4a063be8-4e45-415c-b4d7-0a3c6b0ce1f8",
   "metadata": {},
   "source": [
    "# Problem 2.57\n",
    "\n",
    "This is a problem that I asked for homework, so I should solve it first."
   ]
  },
  {
   "cell_type": "code",
   "execution_count": 8,
   "id": "fa06006a-457b-4704-b108-598a34624d01",
   "metadata": {},
   "outputs": [
    {
     "data": {
      "application/vnd.jupyter.widget-view+json": {
       "model_id": "37ea9d3f7af5454299de27815e039924",
       "version_major": 2,
       "version_minor": 0
      },
      "text/plain": [
       "Canvas(toolbar=Toolbar(toolitems=[('Home', 'Reset original view', 'home', 'home'), ('Back', 'Back to previous …"
      ]
     },
     "metadata": {},
     "output_type": "display_data"
    },
    {
     "data": {
      "text/plain": [
       "<matplotlib.legend.Legend at 0x7f90a7231908>"
      ]
     },
     "execution_count": 8,
     "metadata": {},
     "output_type": "execute_result"
    }
   ],
   "source": [
    "theta = np.linspace(-np.pi/2, 2*np.pi, 100)\n",
    "\n",
    "df2 = pd.DataFrame(theta, columns=['theta'])\n",
    "\n",
    "df2['sin'] = np.sin(theta)\n",
    "df2['2sin'] = 2*df2['sin']\n",
    "df2['sin+2sin'] = df2['sin']+df2['2sin']\n",
    "\n",
    "fig2, ax2 = plt.subplots()\n",
    "ax2.plot(df2.theta, df2['sin'], label='sin')\n",
    "ax2.plot(df2.theta, df2['2sin'], label='2sin')\n",
    "ax2.plot(df2.theta, df2['sin+2sin'], label='sin+2sin')\n",
    "ax2.legend()"
   ]
  },
  {
   "cell_type": "markdown",
   "id": "3fa8b206-005a-488e-9e6d-82940ff18cad",
   "metadata": {},
   "source": [
    "# Problem 2.58"
   ]
  },
  {
   "cell_type": "code",
   "execution_count": 10,
   "id": "3f11000e-8214-4310-b711-4de7538032bd",
   "metadata": {},
   "outputs": [
    {
     "data": {
      "application/vnd.jupyter.widget-view+json": {
       "model_id": "c6c770f8dbee48c68f939f49dbda9167",
       "version_major": 2,
       "version_minor": 0
      },
      "text/plain": [
       "Canvas(toolbar=Toolbar(toolitems=[('Home', 'Reset original view', 'home', 'home'), ('Back', 'Back to previous …"
      ]
     },
     "metadata": {},
     "output_type": "display_data"
    },
    {
     "data": {
      "text/plain": [
       "<matplotlib.legend.Legend at 0x7f90a7078c18>"
      ]
     },
     "execution_count": 10,
     "metadata": {},
     "output_type": "execute_result"
    }
   ],
   "source": [
    "theta = np.linspace(-np.pi/2, 2*np.pi, 100)\n",
    "\n",
    "df3 = pd.DataFrame(theta, columns=['theta'])\n",
    "\n",
    "df3['sin'] = np.sin(theta)\n",
    "df3['-pi/2'] = np.sin(theta-np.pi/2)\n",
    "df3['sin+sin-pi/2'] = df3['sin']+df3['-pi/2']\n",
    "\n",
    "fig3, ax3 = plt.subplots()\n",
    "ax3.plot(df2.theta, df3['sin'], label='sin')\n",
    "ax3.plot(df2.theta, df3['-pi/2'], label='-pi/2')\n",
    "ax3.plot(df2.theta, df3['sin+sin-pi/2'], label='sin+sin-pi/2')\n",
    "ax3.legend()"
   ]
  },
  {
   "cell_type": "code",
   "execution_count": 11,
   "id": "a74fa23f-3a9e-495f-a7a1-d2c249dab577",
   "metadata": {},
   "outputs": [
    {
     "data": {
      "application/vnd.jupyter.widget-view+json": {
       "model_id": "cf0b8fe915c84b0eaac7ab223749e979",
       "version_major": 2,
       "version_minor": 0
      },
      "text/plain": [
       "Canvas(toolbar=Toolbar(toolitems=[('Home', 'Reset original view', 'home', 'home'), ('Back', 'Back to previous …"
      ]
     },
     "metadata": {},
     "output_type": "display_data"
    },
    {
     "data": {
      "text/plain": [
       "[<matplotlib.lines.Line2D at 0x7f90a7208240>]"
      ]
     },
     "execution_count": 11,
     "metadata": {},
     "output_type": "execute_result"
    }
   ],
   "source": [
    "x = np.linspace(-1,1,50)\n",
    "y1= x**2\n",
    "y2=(x-1)**2\n",
    "\n",
    "fgi7, ax7 = plt.subplots()\n",
    "ax7.plot(x, y1)\n",
    "ax7.plot(x, y2)"
   ]
  },
  {
   "cell_type": "markdown",
   "id": "de3d958f-62ea-49c0-87e7-c9f579990a41",
   "metadata": {},
   "source": [
    "# Problem 2.59\n",
    "\n",
    "I'll just do this in the same dataframe as the problem since they will be compared together anyway"
   ]
  },
  {
   "cell_type": "code",
   "execution_count": 12,
   "id": "45921473-4fc3-4638-83c0-3cbb94a9455a",
   "metadata": {},
   "outputs": [],
   "source": [
    "df3['-3pi/4'] = np.sin(theta - 3*np.pi/4)\n",
    "df3['sin+sin+3p/4'] = df3['sin']+df3['-3pi/4']"
   ]
  },
  {
   "cell_type": "code",
   "execution_count": 13,
   "id": "a7660e87-c83c-4564-b25a-88a2f17ec0a6",
   "metadata": {},
   "outputs": [
    {
     "data": {
      "application/vnd.jupyter.widget-view+json": {
       "model_id": "afde5382b17144c7933fb400577c0591",
       "version_major": 2,
       "version_minor": 0
      },
      "text/plain": [
       "Canvas(toolbar=Toolbar(toolitems=[('Home', 'Reset original view', 'home', 'home'), ('Back', 'Back to previous …"
      ]
     },
     "metadata": {},
     "output_type": "display_data"
    },
    {
     "data": {
      "text/plain": [
       "[<matplotlib.lines.Line2D at 0x7f90a6f75860>]"
      ]
     },
     "execution_count": 13,
     "metadata": {},
     "output_type": "execute_result"
    }
   ],
   "source": [
    "fig4,ax4 = plt.subplots()\n",
    "ax4.plot(df3.theta, df3.sin, label = 'sin')\n",
    "ax4.plot(df3.theta, df3['-3pi/4'], label = '-3pi/4')\n",
    "ax4.plot(df3.theta, df3['sin+sin+3p/4'], label='sin+sin+3p/4')"
   ]
  },
  {
   "cell_type": "code",
   "execution_count": null,
   "id": "34701028-c4d6-4c7d-83a5-b85b6dce178e",
   "metadata": {},
   "outputs": [],
   "source": []
  }
 ],
 "metadata": {
  "kernelspec": {
   "display_name": "Python 3 (ipykernel)",
   "language": "python",
   "name": "python3"
  },
  "language_info": {
   "codemirror_mode": {
    "name": "ipython",
    "version": 3
   },
   "file_extension": ".py",
   "mimetype": "text/x-python",
   "name": "python",
   "nbconvert_exporter": "python",
   "pygments_lexer": "ipython3",
   "version": "3.9.18"
  }
 },
 "nbformat": 4,
 "nbformat_minor": 5
}
